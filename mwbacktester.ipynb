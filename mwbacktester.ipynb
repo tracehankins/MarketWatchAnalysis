{
 "cells": [
  {
   "cell_type": "code",
   "execution_count": 58,
   "metadata": {},
   "outputs": [],
   "source": [
    "import pandas as pd\n",
    "import numpy as np\n",
    "import yfinance as yf\n",
    "import datetime\n",
    "import matplotlib.pyplot as plt\n",
    "\n",
    "import pandas_market_calendars as mcal\n"
   ]
  },
  {
   "cell_type": "code",
   "execution_count": 59,
   "metadata": {},
   "outputs": [
    {
     "data": {
      "text/plain": [
       "[datetime.date(2022, 1, 3),\n",
       " datetime.date(2022, 1, 4),\n",
       " datetime.date(2022, 1, 5),\n",
       " datetime.date(2022, 1, 6),\n",
       " datetime.date(2022, 1, 7),\n",
       " datetime.date(2022, 1, 10),\n",
       " datetime.date(2022, 1, 11),\n",
       " datetime.date(2022, 1, 12),\n",
       " datetime.date(2022, 1, 13),\n",
       " datetime.date(2022, 1, 14),\n",
       " datetime.date(2022, 1, 18),\n",
       " datetime.date(2022, 1, 19),\n",
       " datetime.date(2022, 1, 20),\n",
       " datetime.date(2022, 1, 21),\n",
       " datetime.date(2022, 1, 24),\n",
       " datetime.date(2022, 1, 25),\n",
       " datetime.date(2022, 1, 26),\n",
       " datetime.date(2022, 1, 27),\n",
       " datetime.date(2022, 1, 28),\n",
       " datetime.date(2022, 1, 31),\n",
       " datetime.date(2022, 2, 1),\n",
       " datetime.date(2022, 2, 2),\n",
       " datetime.date(2022, 2, 3),\n",
       " datetime.date(2022, 2, 4),\n",
       " datetime.date(2022, 2, 7),\n",
       " datetime.date(2022, 2, 8),\n",
       " datetime.date(2022, 2, 9),\n",
       " datetime.date(2022, 2, 10),\n",
       " datetime.date(2022, 2, 11),\n",
       " datetime.date(2022, 2, 14),\n",
       " datetime.date(2022, 2, 15),\n",
       " datetime.date(2022, 2, 16),\n",
       " datetime.date(2022, 2, 17),\n",
       " datetime.date(2022, 2, 18),\n",
       " datetime.date(2022, 2, 22),\n",
       " datetime.date(2022, 2, 23),\n",
       " datetime.date(2022, 2, 24),\n",
       " datetime.date(2022, 2, 25),\n",
       " datetime.date(2022, 2, 28),\n",
       " datetime.date(2022, 3, 1),\n",
       " datetime.date(2022, 3, 2),\n",
       " datetime.date(2022, 3, 3),\n",
       " datetime.date(2022, 3, 4),\n",
       " datetime.date(2022, 3, 7),\n",
       " datetime.date(2022, 3, 8),\n",
       " datetime.date(2022, 3, 9),\n",
       " datetime.date(2022, 3, 10),\n",
       " datetime.date(2022, 3, 11),\n",
       " datetime.date(2022, 3, 14),\n",
       " datetime.date(2022, 3, 15),\n",
       " datetime.date(2022, 3, 16),\n",
       " datetime.date(2022, 3, 17),\n",
       " datetime.date(2022, 3, 18),\n",
       " datetime.date(2022, 3, 21),\n",
       " datetime.date(2022, 3, 22),\n",
       " datetime.date(2022, 3, 23),\n",
       " datetime.date(2022, 3, 24),\n",
       " datetime.date(2022, 3, 25),\n",
       " datetime.date(2022, 3, 28),\n",
       " datetime.date(2022, 3, 29),\n",
       " datetime.date(2022, 3, 30),\n",
       " datetime.date(2022, 3, 31),\n",
       " datetime.date(2022, 4, 1),\n",
       " datetime.date(2022, 4, 4),\n",
       " datetime.date(2022, 4, 5),\n",
       " datetime.date(2022, 4, 6),\n",
       " datetime.date(2022, 4, 7),\n",
       " datetime.date(2022, 4, 8),\n",
       " datetime.date(2022, 4, 11),\n",
       " datetime.date(2022, 4, 12),\n",
       " datetime.date(2022, 4, 13),\n",
       " datetime.date(2022, 4, 14),\n",
       " datetime.date(2022, 4, 18),\n",
       " datetime.date(2022, 4, 19),\n",
       " datetime.date(2022, 4, 20),\n",
       " datetime.date(2022, 4, 21),\n",
       " datetime.date(2022, 4, 22),\n",
       " datetime.date(2022, 4, 25),\n",
       " datetime.date(2022, 4, 26),\n",
       " datetime.date(2022, 4, 27),\n",
       " datetime.date(2022, 4, 28),\n",
       " datetime.date(2022, 4, 29),\n",
       " datetime.date(2022, 5, 2),\n",
       " datetime.date(2022, 5, 3),\n",
       " datetime.date(2022, 5, 4),\n",
       " datetime.date(2022, 5, 5),\n",
       " datetime.date(2022, 5, 6),\n",
       " datetime.date(2022, 5, 9),\n",
       " datetime.date(2022, 5, 10),\n",
       " datetime.date(2022, 5, 11),\n",
       " datetime.date(2022, 5, 12),\n",
       " datetime.date(2022, 5, 13),\n",
       " datetime.date(2022, 5, 16),\n",
       " datetime.date(2022, 5, 17),\n",
       " datetime.date(2022, 5, 18),\n",
       " datetime.date(2022, 5, 19),\n",
       " datetime.date(2022, 5, 20),\n",
       " datetime.date(2022, 5, 23),\n",
       " datetime.date(2022, 5, 24),\n",
       " datetime.date(2022, 5, 25),\n",
       " datetime.date(2022, 5, 26),\n",
       " datetime.date(2022, 5, 27),\n",
       " datetime.date(2022, 5, 31),\n",
       " datetime.date(2022, 6, 1),\n",
       " datetime.date(2022, 6, 2),\n",
       " datetime.date(2022, 6, 3),\n",
       " datetime.date(2022, 6, 6),\n",
       " datetime.date(2022, 6, 7),\n",
       " datetime.date(2022, 6, 8),\n",
       " datetime.date(2022, 6, 9),\n",
       " datetime.date(2022, 6, 10),\n",
       " datetime.date(2022, 6, 13),\n",
       " datetime.date(2022, 6, 14),\n",
       " datetime.date(2022, 6, 15),\n",
       " datetime.date(2022, 6, 16),\n",
       " datetime.date(2022, 6, 17),\n",
       " datetime.date(2022, 6, 21),\n",
       " datetime.date(2022, 6, 22),\n",
       " datetime.date(2022, 6, 23),\n",
       " datetime.date(2022, 6, 24),\n",
       " datetime.date(2022, 6, 27),\n",
       " datetime.date(2022, 6, 28),\n",
       " datetime.date(2022, 6, 29),\n",
       " datetime.date(2022, 6, 30),\n",
       " datetime.date(2022, 7, 1),\n",
       " datetime.date(2022, 7, 5),\n",
       " datetime.date(2022, 7, 6),\n",
       " datetime.date(2022, 7, 7),\n",
       " datetime.date(2022, 7, 8),\n",
       " datetime.date(2022, 7, 11),\n",
       " datetime.date(2022, 7, 12),\n",
       " datetime.date(2022, 7, 13),\n",
       " datetime.date(2022, 7, 14),\n",
       " datetime.date(2022, 7, 15),\n",
       " datetime.date(2022, 7, 18),\n",
       " datetime.date(2022, 7, 19),\n",
       " datetime.date(2022, 7, 20),\n",
       " datetime.date(2022, 7, 21),\n",
       " datetime.date(2022, 7, 22),\n",
       " datetime.date(2022, 7, 25),\n",
       " datetime.date(2022, 7, 26),\n",
       " datetime.date(2022, 7, 27),\n",
       " datetime.date(2022, 7, 28),\n",
       " datetime.date(2022, 7, 29),\n",
       " datetime.date(2022, 8, 1),\n",
       " datetime.date(2022, 8, 2),\n",
       " datetime.date(2022, 8, 3),\n",
       " datetime.date(2022, 8, 4),\n",
       " datetime.date(2022, 8, 5),\n",
       " datetime.date(2022, 8, 8),\n",
       " datetime.date(2022, 8, 9),\n",
       " datetime.date(2022, 8, 10),\n",
       " datetime.date(2022, 8, 11),\n",
       " datetime.date(2022, 8, 12),\n",
       " datetime.date(2022, 8, 15),\n",
       " datetime.date(2022, 8, 16),\n",
       " datetime.date(2022, 8, 17),\n",
       " datetime.date(2022, 8, 18),\n",
       " datetime.date(2022, 8, 19),\n",
       " datetime.date(2022, 8, 22),\n",
       " datetime.date(2022, 8, 23),\n",
       " datetime.date(2022, 8, 24),\n",
       " datetime.date(2022, 8, 25),\n",
       " datetime.date(2022, 8, 26),\n",
       " datetime.date(2022, 8, 29),\n",
       " datetime.date(2022, 8, 30),\n",
       " datetime.date(2022, 8, 31),\n",
       " datetime.date(2022, 9, 1),\n",
       " datetime.date(2022, 9, 2),\n",
       " datetime.date(2022, 9, 6),\n",
       " datetime.date(2022, 9, 7),\n",
       " datetime.date(2022, 9, 8),\n",
       " datetime.date(2022, 9, 9),\n",
       " datetime.date(2022, 9, 12),\n",
       " datetime.date(2022, 9, 13),\n",
       " datetime.date(2022, 9, 14),\n",
       " datetime.date(2022, 9, 15),\n",
       " datetime.date(2022, 9, 16),\n",
       " datetime.date(2022, 9, 19),\n",
       " datetime.date(2022, 9, 20),\n",
       " datetime.date(2022, 9, 21),\n",
       " datetime.date(2022, 9, 22),\n",
       " datetime.date(2022, 9, 23),\n",
       " datetime.date(2022, 9, 26),\n",
       " datetime.date(2022, 9, 27),\n",
       " datetime.date(2022, 9, 28),\n",
       " datetime.date(2022, 9, 29),\n",
       " datetime.date(2022, 9, 30),\n",
       " datetime.date(2022, 10, 3),\n",
       " datetime.date(2022, 10, 4),\n",
       " datetime.date(2022, 10, 5),\n",
       " datetime.date(2022, 10, 6),\n",
       " datetime.date(2022, 10, 7),\n",
       " datetime.date(2022, 10, 10),\n",
       " datetime.date(2022, 10, 11),\n",
       " datetime.date(2022, 10, 12),\n",
       " datetime.date(2022, 10, 13),\n",
       " datetime.date(2022, 10, 14),\n",
       " datetime.date(2022, 10, 17),\n",
       " datetime.date(2022, 10, 18),\n",
       " datetime.date(2022, 10, 19),\n",
       " datetime.date(2022, 10, 20),\n",
       " datetime.date(2022, 10, 21),\n",
       " datetime.date(2022, 10, 24),\n",
       " datetime.date(2022, 10, 25),\n",
       " datetime.date(2022, 10, 26),\n",
       " datetime.date(2022, 10, 27),\n",
       " datetime.date(2022, 10, 28),\n",
       " datetime.date(2022, 10, 31),\n",
       " datetime.date(2022, 11, 1),\n",
       " datetime.date(2022, 11, 2),\n",
       " datetime.date(2022, 11, 3),\n",
       " datetime.date(2022, 11, 4),\n",
       " datetime.date(2022, 11, 7),\n",
       " datetime.date(2022, 11, 8),\n",
       " datetime.date(2022, 11, 9),\n",
       " datetime.date(2022, 11, 10),\n",
       " datetime.date(2022, 11, 11),\n",
       " datetime.date(2022, 11, 14),\n",
       " datetime.date(2022, 11, 15),\n",
       " datetime.date(2022, 11, 16),\n",
       " datetime.date(2022, 11, 17),\n",
       " datetime.date(2022, 11, 18),\n",
       " datetime.date(2022, 11, 21),\n",
       " datetime.date(2022, 11, 22),\n",
       " datetime.date(2022, 11, 23),\n",
       " datetime.date(2022, 11, 25),\n",
       " datetime.date(2022, 11, 28),\n",
       " datetime.date(2022, 11, 29),\n",
       " datetime.date(2022, 11, 30),\n",
       " datetime.date(2022, 12, 1),\n",
       " datetime.date(2022, 12, 2),\n",
       " datetime.date(2022, 12, 5),\n",
       " datetime.date(2022, 12, 6),\n",
       " datetime.date(2022, 12, 7),\n",
       " datetime.date(2022, 12, 8),\n",
       " datetime.date(2022, 12, 9),\n",
       " datetime.date(2022, 12, 12),\n",
       " datetime.date(2022, 12, 13),\n",
       " datetime.date(2022, 12, 14),\n",
       " datetime.date(2022, 12, 15),\n",
       " datetime.date(2022, 12, 16),\n",
       " datetime.date(2022, 12, 19),\n",
       " datetime.date(2022, 12, 20),\n",
       " datetime.date(2022, 12, 21),\n",
       " datetime.date(2022, 12, 22),\n",
       " datetime.date(2022, 12, 23),\n",
       " datetime.date(2022, 12, 27),\n",
       " datetime.date(2022, 12, 28),\n",
       " datetime.date(2022, 12, 29),\n",
       " datetime.date(2022, 12, 30),\n",
       " datetime.date(2023, 1, 3),\n",
       " datetime.date(2023, 1, 4),\n",
       " datetime.date(2023, 1, 5),\n",
       " datetime.date(2023, 1, 6),\n",
       " datetime.date(2023, 1, 9),\n",
       " datetime.date(2023, 1, 10),\n",
       " datetime.date(2023, 1, 11),\n",
       " datetime.date(2023, 1, 12),\n",
       " datetime.date(2023, 1, 13),\n",
       " datetime.date(2023, 1, 17),\n",
       " datetime.date(2023, 1, 18),\n",
       " datetime.date(2023, 1, 19),\n",
       " datetime.date(2023, 1, 20),\n",
       " datetime.date(2023, 1, 23),\n",
       " datetime.date(2023, 1, 24),\n",
       " datetime.date(2023, 1, 25),\n",
       " datetime.date(2023, 1, 26),\n",
       " datetime.date(2023, 1, 27),\n",
       " datetime.date(2023, 1, 30),\n",
       " datetime.date(2023, 1, 31),\n",
       " datetime.date(2023, 2, 1),\n",
       " datetime.date(2023, 2, 2),\n",
       " datetime.date(2023, 2, 3),\n",
       " datetime.date(2023, 2, 6),\n",
       " datetime.date(2023, 2, 7),\n",
       " datetime.date(2023, 2, 8),\n",
       " datetime.date(2023, 2, 9),\n",
       " datetime.date(2023, 2, 10),\n",
       " datetime.date(2023, 2, 13),\n",
       " datetime.date(2023, 2, 14),\n",
       " datetime.date(2023, 2, 15),\n",
       " datetime.date(2023, 2, 16),\n",
       " datetime.date(2023, 2, 17),\n",
       " datetime.date(2023, 2, 21),\n",
       " datetime.date(2023, 2, 22),\n",
       " datetime.date(2023, 2, 23),\n",
       " datetime.date(2023, 2, 24),\n",
       " datetime.date(2023, 2, 27),\n",
       " datetime.date(2023, 2, 28),\n",
       " datetime.date(2023, 3, 1),\n",
       " datetime.date(2023, 3, 2),\n",
       " datetime.date(2023, 3, 3),\n",
       " datetime.date(2023, 3, 6),\n",
       " datetime.date(2023, 3, 7),\n",
       " datetime.date(2023, 3, 8),\n",
       " datetime.date(2023, 3, 9),\n",
       " datetime.date(2023, 3, 10),\n",
       " datetime.date(2023, 3, 13),\n",
       " datetime.date(2023, 3, 14),\n",
       " datetime.date(2023, 3, 15),\n",
       " datetime.date(2023, 3, 16),\n",
       " datetime.date(2023, 3, 17),\n",
       " datetime.date(2023, 3, 20),\n",
       " datetime.date(2023, 3, 21),\n",
       " datetime.date(2023, 3, 22),\n",
       " datetime.date(2023, 3, 23),\n",
       " datetime.date(2023, 3, 24),\n",
       " datetime.date(2023, 3, 27),\n",
       " datetime.date(2023, 3, 28),\n",
       " datetime.date(2023, 3, 29),\n",
       " datetime.date(2023, 3, 30),\n",
       " datetime.date(2023, 3, 31),\n",
       " datetime.date(2023, 4, 3),\n",
       " datetime.date(2023, 4, 4),\n",
       " datetime.date(2023, 4, 5),\n",
       " datetime.date(2023, 4, 6),\n",
       " datetime.date(2023, 4, 10),\n",
       " datetime.date(2023, 4, 11),\n",
       " datetime.date(2023, 4, 12),\n",
       " datetime.date(2023, 4, 13),\n",
       " datetime.date(2023, 4, 14),\n",
       " datetime.date(2023, 4, 17),\n",
       " datetime.date(2023, 4, 18),\n",
       " datetime.date(2023, 4, 19),\n",
       " datetime.date(2023, 4, 20),\n",
       " datetime.date(2023, 4, 21),\n",
       " datetime.date(2023, 4, 24),\n",
       " datetime.date(2023, 4, 25),\n",
       " datetime.date(2023, 4, 26),\n",
       " datetime.date(2023, 4, 27),\n",
       " datetime.date(2023, 4, 28),\n",
       " datetime.date(2023, 5, 1),\n",
       " datetime.date(2023, 5, 2),\n",
       " datetime.date(2023, 5, 3),\n",
       " datetime.date(2023, 5, 4),\n",
       " datetime.date(2023, 5, 5),\n",
       " datetime.date(2023, 5, 8),\n",
       " datetime.date(2023, 5, 9),\n",
       " datetime.date(2023, 5, 10),\n",
       " datetime.date(2023, 5, 11),\n",
       " datetime.date(2023, 5, 12),\n",
       " datetime.date(2023, 5, 15),\n",
       " datetime.date(2023, 5, 16),\n",
       " datetime.date(2023, 5, 17),\n",
       " datetime.date(2023, 5, 18),\n",
       " datetime.date(2023, 5, 19),\n",
       " datetime.date(2023, 5, 22),\n",
       " datetime.date(2023, 5, 23),\n",
       " datetime.date(2023, 5, 24),\n",
       " datetime.date(2023, 5, 25),\n",
       " datetime.date(2023, 5, 26),\n",
       " datetime.date(2023, 5, 30),\n",
       " datetime.date(2023, 5, 31),\n",
       " datetime.date(2023, 6, 1),\n",
       " datetime.date(2023, 6, 2),\n",
       " datetime.date(2023, 6, 5),\n",
       " datetime.date(2023, 6, 6),\n",
       " datetime.date(2023, 6, 7),\n",
       " datetime.date(2023, 6, 8),\n",
       " datetime.date(2023, 6, 9),\n",
       " datetime.date(2023, 6, 12),\n",
       " datetime.date(2023, 6, 13),\n",
       " datetime.date(2023, 6, 14),\n",
       " datetime.date(2023, 6, 15),\n",
       " datetime.date(2023, 6, 16),\n",
       " datetime.date(2023, 6, 20),\n",
       " datetime.date(2023, 6, 21),\n",
       " datetime.date(2023, 6, 22),\n",
       " datetime.date(2023, 6, 23),\n",
       " datetime.date(2023, 6, 26),\n",
       " datetime.date(2023, 6, 27),\n",
       " datetime.date(2023, 6, 28),\n",
       " datetime.date(2023, 6, 29),\n",
       " datetime.date(2023, 6, 30),\n",
       " datetime.date(2023, 7, 3),\n",
       " datetime.date(2023, 7, 5),\n",
       " datetime.date(2023, 7, 6),\n",
       " datetime.date(2023, 7, 7),\n",
       " datetime.date(2023, 7, 10),\n",
       " datetime.date(2023, 7, 11),\n",
       " datetime.date(2023, 7, 12),\n",
       " datetime.date(2023, 7, 13),\n",
       " datetime.date(2023, 7, 14),\n",
       " datetime.date(2023, 7, 17),\n",
       " datetime.date(2023, 7, 18),\n",
       " datetime.date(2023, 7, 19),\n",
       " datetime.date(2023, 7, 20),\n",
       " datetime.date(2023, 7, 21),\n",
       " datetime.date(2023, 7, 24),\n",
       " datetime.date(2023, 7, 25),\n",
       " datetime.date(2023, 7, 26),\n",
       " datetime.date(2023, 7, 27),\n",
       " datetime.date(2023, 7, 28),\n",
       " datetime.date(2023, 7, 31),\n",
       " datetime.date(2023, 8, 1),\n",
       " datetime.date(2023, 8, 2),\n",
       " datetime.date(2023, 8, 3),\n",
       " datetime.date(2023, 8, 4),\n",
       " datetime.date(2023, 8, 7),\n",
       " datetime.date(2023, 8, 8),\n",
       " datetime.date(2023, 8, 9),\n",
       " datetime.date(2023, 8, 10),\n",
       " datetime.date(2023, 8, 11),\n",
       " datetime.date(2023, 8, 14),\n",
       " datetime.date(2023, 8, 15),\n",
       " datetime.date(2023, 8, 16),\n",
       " datetime.date(2023, 8, 17),\n",
       " datetime.date(2023, 8, 18),\n",
       " datetime.date(2023, 8, 21),\n",
       " datetime.date(2023, 8, 22),\n",
       " datetime.date(2023, 8, 23),\n",
       " datetime.date(2023, 8, 24),\n",
       " datetime.date(2023, 8, 25),\n",
       " datetime.date(2023, 8, 28),\n",
       " datetime.date(2023, 8, 29),\n",
       " datetime.date(2023, 8, 30),\n",
       " datetime.date(2023, 8, 31),\n",
       " datetime.date(2023, 9, 1),\n",
       " datetime.date(2023, 9, 5),\n",
       " datetime.date(2023, 9, 6),\n",
       " datetime.date(2023, 9, 7),\n",
       " datetime.date(2023, 9, 8),\n",
       " datetime.date(2023, 9, 11),\n",
       " datetime.date(2023, 9, 12),\n",
       " datetime.date(2023, 9, 13),\n",
       " datetime.date(2023, 9, 14),\n",
       " datetime.date(2023, 9, 15),\n",
       " datetime.date(2023, 9, 18),\n",
       " datetime.date(2023, 9, 19),\n",
       " datetime.date(2023, 9, 20),\n",
       " datetime.date(2023, 9, 21),\n",
       " datetime.date(2023, 9, 22),\n",
       " datetime.date(2023, 9, 25),\n",
       " datetime.date(2023, 9, 26),\n",
       " datetime.date(2023, 9, 27),\n",
       " datetime.date(2023, 9, 28),\n",
       " datetime.date(2023, 9, 29),\n",
       " datetime.date(2023, 10, 2),\n",
       " datetime.date(2023, 10, 3),\n",
       " datetime.date(2023, 10, 4),\n",
       " datetime.date(2023, 10, 5),\n",
       " datetime.date(2023, 10, 6),\n",
       " datetime.date(2023, 10, 9),\n",
       " datetime.date(2023, 10, 10),\n",
       " datetime.date(2023, 10, 11),\n",
       " datetime.date(2023, 10, 12),\n",
       " datetime.date(2023, 10, 13),\n",
       " datetime.date(2023, 10, 16),\n",
       " datetime.date(2023, 10, 17),\n",
       " datetime.date(2023, 10, 18),\n",
       " datetime.date(2023, 10, 19),\n",
       " datetime.date(2023, 10, 20),\n",
       " datetime.date(2023, 10, 23),\n",
       " datetime.date(2023, 10, 24),\n",
       " datetime.date(2023, 10, 25),\n",
       " datetime.date(2023, 10, 26),\n",
       " datetime.date(2023, 10, 27),\n",
       " datetime.date(2023, 10, 30),\n",
       " datetime.date(2023, 10, 31),\n",
       " datetime.date(2023, 11, 1),\n",
       " datetime.date(2023, 11, 2),\n",
       " datetime.date(2023, 11, 3),\n",
       " datetime.date(2023, 11, 6),\n",
       " datetime.date(2023, 11, 7),\n",
       " datetime.date(2023, 11, 8),\n",
       " datetime.date(2023, 11, 9),\n",
       " datetime.date(2023, 11, 10),\n",
       " datetime.date(2023, 11, 13),\n",
       " datetime.date(2023, 11, 14),\n",
       " datetime.date(2023, 11, 15),\n",
       " datetime.date(2023, 11, 16),\n",
       " datetime.date(2023, 11, 17),\n",
       " datetime.date(2023, 11, 20),\n",
       " datetime.date(2023, 11, 21),\n",
       " datetime.date(2023, 11, 22),\n",
       " datetime.date(2023, 11, 24),\n",
       " datetime.date(2023, 11, 27),\n",
       " datetime.date(2023, 11, 28),\n",
       " datetime.date(2023, 11, 29),\n",
       " datetime.date(2023, 11, 30),\n",
       " datetime.date(2023, 12, 1),\n",
       " datetime.date(2023, 12, 4),\n",
       " datetime.date(2023, 12, 5),\n",
       " datetime.date(2023, 12, 6),\n",
       " datetime.date(2023, 12, 7),\n",
       " datetime.date(2023, 12, 8),\n",
       " datetime.date(2023, 12, 11),\n",
       " datetime.date(2023, 12, 12),\n",
       " datetime.date(2023, 12, 13),\n",
       " datetime.date(2023, 12, 14),\n",
       " datetime.date(2023, 12, 15),\n",
       " datetime.date(2023, 12, 18),\n",
       " datetime.date(2023, 12, 19),\n",
       " datetime.date(2023, 12, 20),\n",
       " datetime.date(2023, 12, 21),\n",
       " datetime.date(2023, 12, 22),\n",
       " datetime.date(2023, 12, 26),\n",
       " datetime.date(2023, 12, 27),\n",
       " datetime.date(2023, 12, 28),\n",
       " datetime.date(2023, 12, 29),\n",
       " datetime.date(2024, 1, 2),\n",
       " datetime.date(2024, 1, 3),\n",
       " datetime.date(2024, 1, 4),\n",
       " datetime.date(2024, 1, 5),\n",
       " datetime.date(2024, 1, 8),\n",
       " datetime.date(2024, 1, 9),\n",
       " datetime.date(2024, 1, 10),\n",
       " datetime.date(2024, 1, 11),\n",
       " datetime.date(2024, 1, 12),\n",
       " datetime.date(2024, 1, 16),\n",
       " datetime.date(2024, 1, 17),\n",
       " datetime.date(2024, 1, 18),\n",
       " datetime.date(2024, 1, 19),\n",
       " datetime.date(2024, 1, 22),\n",
       " datetime.date(2024, 1, 23),\n",
       " datetime.date(2024, 1, 24),\n",
       " datetime.date(2024, 1, 25),\n",
       " datetime.date(2024, 1, 26),\n",
       " datetime.date(2024, 1, 29),\n",
       " datetime.date(2024, 1, 30),\n",
       " datetime.date(2024, 1, 31),\n",
       " datetime.date(2024, 2, 1),\n",
       " datetime.date(2024, 2, 2),\n",
       " datetime.date(2024, 2, 5),\n",
       " datetime.date(2024, 2, 6),\n",
       " datetime.date(2024, 2, 7),\n",
       " datetime.date(2024, 2, 8),\n",
       " datetime.date(2024, 2, 9),\n",
       " datetime.date(2024, 2, 12),\n",
       " datetime.date(2024, 2, 13),\n",
       " datetime.date(2024, 2, 14),\n",
       " datetime.date(2024, 2, 15),\n",
       " datetime.date(2024, 2, 16),\n",
       " datetime.date(2024, 2, 20),\n",
       " datetime.date(2024, 2, 21),\n",
       " datetime.date(2024, 2, 22),\n",
       " datetime.date(2024, 2, 23),\n",
       " datetime.date(2024, 2, 26),\n",
       " datetime.date(2024, 2, 27),\n",
       " datetime.date(2024, 2, 28),\n",
       " datetime.date(2024, 2, 29),\n",
       " datetime.date(2024, 3, 1),\n",
       " datetime.date(2024, 3, 4),\n",
       " datetime.date(2024, 3, 5),\n",
       " datetime.date(2024, 3, 6),\n",
       " datetime.date(2024, 3, 7),\n",
       " datetime.date(2024, 3, 8),\n",
       " datetime.date(2024, 3, 11),\n",
       " datetime.date(2024, 3, 12),\n",
       " datetime.date(2024, 3, 13),\n",
       " datetime.date(2024, 3, 14),\n",
       " datetime.date(2024, 3, 15),\n",
       " datetime.date(2024, 3, 18),\n",
       " datetime.date(2024, 3, 19),\n",
       " datetime.date(2024, 3, 20),\n",
       " datetime.date(2024, 3, 21),\n",
       " datetime.date(2024, 3, 22),\n",
       " datetime.date(2024, 3, 25),\n",
       " datetime.date(2024, 3, 26),\n",
       " datetime.date(2024, 3, 27),\n",
       " datetime.date(2024, 3, 28),\n",
       " datetime.date(2024, 4, 1),\n",
       " datetime.date(2024, 4, 2),\n",
       " datetime.date(2024, 4, 3),\n",
       " datetime.date(2024, 4, 4),\n",
       " datetime.date(2024, 4, 5),\n",
       " datetime.date(2024, 4, 8),\n",
       " datetime.date(2024, 4, 9),\n",
       " datetime.date(2024, 4, 10),\n",
       " datetime.date(2024, 4, 11),\n",
       " datetime.date(2024, 4, 12),\n",
       " datetime.date(2024, 4, 15),\n",
       " datetime.date(2024, 4, 16),\n",
       " datetime.date(2024, 4, 17),\n",
       " datetime.date(2024, 4, 18),\n",
       " datetime.date(2024, 4, 19),\n",
       " datetime.date(2024, 4, 22),\n",
       " datetime.date(2024, 4, 23),\n",
       " datetime.date(2024, 4, 24),\n",
       " datetime.date(2024, 4, 25),\n",
       " datetime.date(2024, 4, 26),\n",
       " datetime.date(2024, 4, 29),\n",
       " datetime.date(2024, 4, 30),\n",
       " datetime.date(2024, 5, 1),\n",
       " datetime.date(2024, 5, 2),\n",
       " datetime.date(2024, 5, 3),\n",
       " datetime.date(2024, 5, 6),\n",
       " datetime.date(2024, 5, 7),\n",
       " datetime.date(2024, 5, 8),\n",
       " datetime.date(2024, 5, 9),\n",
       " datetime.date(2024, 5, 10),\n",
       " datetime.date(2024, 5, 13),\n",
       " datetime.date(2024, 5, 14),\n",
       " datetime.date(2024, 5, 15),\n",
       " datetime.date(2024, 5, 16),\n",
       " datetime.date(2024, 5, 17),\n",
       " datetime.date(2024, 5, 20),\n",
       " datetime.date(2024, 5, 21),\n",
       " datetime.date(2024, 5, 22),\n",
       " datetime.date(2024, 5, 23),\n",
       " datetime.date(2024, 5, 24),\n",
       " datetime.date(2024, 5, 28),\n",
       " datetime.date(2024, 5, 29),\n",
       " datetime.date(2024, 5, 30),\n",
       " datetime.date(2024, 5, 31),\n",
       " datetime.date(2024, 6, 3),\n",
       " datetime.date(2024, 6, 4),\n",
       " datetime.date(2024, 6, 5),\n",
       " datetime.date(2024, 6, 6),\n",
       " datetime.date(2024, 6, 7),\n",
       " datetime.date(2024, 6, 10),\n",
       " datetime.date(2024, 6, 11),\n",
       " datetime.date(2024, 6, 12),\n",
       " datetime.date(2024, 6, 13),\n",
       " datetime.date(2024, 6, 14),\n",
       " datetime.date(2024, 6, 17),\n",
       " datetime.date(2024, 6, 18),\n",
       " datetime.date(2024, 6, 20),\n",
       " datetime.date(2024, 6, 21),\n",
       " datetime.date(2024, 6, 24),\n",
       " datetime.date(2024, 6, 25),\n",
       " datetime.date(2024, 6, 26),\n",
       " datetime.date(2024, 6, 27),\n",
       " datetime.date(2024, 6, 28),\n",
       " datetime.date(2024, 7, 1),\n",
       " datetime.date(2024, 7, 2),\n",
       " datetime.date(2024, 7, 3),\n",
       " datetime.date(2024, 7, 5),\n",
       " datetime.date(2024, 7, 8),\n",
       " datetime.date(2024, 7, 9),\n",
       " datetime.date(2024, 7, 10),\n",
       " datetime.date(2024, 7, 11),\n",
       " datetime.date(2024, 7, 12),\n",
       " datetime.date(2024, 7, 15),\n",
       " datetime.date(2024, 7, 16),\n",
       " datetime.date(2024, 7, 17),\n",
       " datetime.date(2024, 7, 18),\n",
       " datetime.date(2024, 7, 19),\n",
       " datetime.date(2024, 7, 22),\n",
       " datetime.date(2024, 7, 23),\n",
       " datetime.date(2024, 7, 24),\n",
       " datetime.date(2024, 7, 25),\n",
       " datetime.date(2024, 7, 26),\n",
       " datetime.date(2024, 7, 29),\n",
       " datetime.date(2024, 7, 30),\n",
       " datetime.date(2024, 7, 31),\n",
       " datetime.date(2024, 8, 1),\n",
       " datetime.date(2024, 8, 2),\n",
       " datetime.date(2024, 8, 5),\n",
       " datetime.date(2024, 8, 6),\n",
       " datetime.date(2024, 8, 7),\n",
       " datetime.date(2024, 8, 8),\n",
       " datetime.date(2024, 8, 9),\n",
       " datetime.date(2024, 8, 12),\n",
       " datetime.date(2024, 8, 13),\n",
       " datetime.date(2024, 8, 14),\n",
       " datetime.date(2024, 8, 15),\n",
       " datetime.date(2024, 8, 16),\n",
       " datetime.date(2024, 8, 19),\n",
       " datetime.date(2024, 8, 20),\n",
       " datetime.date(2024, 8, 21),\n",
       " datetime.date(2024, 8, 22),\n",
       " datetime.date(2024, 8, 23),\n",
       " datetime.date(2024, 8, 26),\n",
       " datetime.date(2024, 8, 27),\n",
       " datetime.date(2024, 8, 28),\n",
       " datetime.date(2024, 8, 29),\n",
       " datetime.date(2024, 8, 30),\n",
       " datetime.date(2024, 9, 3),\n",
       " datetime.date(2024, 9, 4),\n",
       " datetime.date(2024, 9, 5),\n",
       " datetime.date(2024, 9, 6),\n",
       " datetime.date(2024, 9, 9),\n",
       " datetime.date(2024, 9, 10),\n",
       " datetime.date(2024, 9, 11),\n",
       " datetime.date(2024, 9, 12),\n",
       " datetime.date(2024, 9, 13),\n",
       " datetime.date(2024, 9, 16),\n",
       " datetime.date(2024, 9, 17),\n",
       " datetime.date(2024, 9, 18),\n",
       " datetime.date(2024, 9, 19),\n",
       " datetime.date(2024, 9, 20),\n",
       " datetime.date(2024, 9, 23),\n",
       " datetime.date(2024, 9, 24),\n",
       " datetime.date(2024, 9, 25),\n",
       " datetime.date(2024, 9, 26),\n",
       " datetime.date(2024, 9, 27),\n",
       " datetime.date(2024, 9, 30),\n",
       " datetime.date(2024, 10, 1),\n",
       " datetime.date(2024, 10, 2),\n",
       " datetime.date(2024, 10, 3),\n",
       " datetime.date(2024, 10, 4),\n",
       " datetime.date(2024, 10, 7),\n",
       " datetime.date(2024, 10, 8),\n",
       " datetime.date(2024, 10, 9),\n",
       " datetime.date(2024, 10, 10),\n",
       " datetime.date(2024, 10, 11),\n",
       " datetime.date(2024, 10, 14),\n",
       " datetime.date(2024, 10, 15),\n",
       " datetime.date(2024, 10, 16),\n",
       " datetime.date(2024, 10, 17),\n",
       " datetime.date(2024, 10, 18),\n",
       " datetime.date(2024, 10, 21),\n",
       " datetime.date(2024, 10, 22),\n",
       " datetime.date(2024, 10, 23),\n",
       " datetime.date(2024, 10, 24),\n",
       " datetime.date(2024, 10, 25),\n",
       " datetime.date(2024, 10, 28),\n",
       " datetime.date(2024, 10, 29),\n",
       " datetime.date(2024, 10, 30),\n",
       " datetime.date(2024, 10, 31),\n",
       " datetime.date(2024, 11, 1),\n",
       " datetime.date(2024, 11, 4),\n",
       " datetime.date(2024, 11, 5),\n",
       " datetime.date(2024, 11, 6),\n",
       " datetime.date(2024, 11, 7),\n",
       " datetime.date(2024, 11, 8),\n",
       " datetime.date(2024, 11, 11),\n",
       " datetime.date(2024, 11, 12),\n",
       " datetime.date(2024, 11, 13),\n",
       " datetime.date(2024, 11, 14),\n",
       " datetime.date(2024, 11, 15),\n",
       " datetime.date(2024, 11, 18),\n",
       " datetime.date(2024, 11, 19),\n",
       " datetime.date(2024, 11, 20),\n",
       " datetime.date(2024, 11, 21),\n",
       " datetime.date(2024, 11, 22),\n",
       " datetime.date(2024, 11, 25),\n",
       " datetime.date(2024, 11, 26),\n",
       " datetime.date(2024, 11, 27),\n",
       " datetime.date(2024, 11, 29),\n",
       " datetime.date(2024, 12, 2),\n",
       " datetime.date(2024, 12, 3),\n",
       " datetime.date(2024, 12, 4),\n",
       " datetime.date(2024, 12, 5),\n",
       " datetime.date(2024, 12, 6),\n",
       " datetime.date(2024, 12, 9),\n",
       " datetime.date(2024, 12, 10),\n",
       " datetime.date(2024, 12, 11),\n",
       " datetime.date(2024, 12, 12),\n",
       " datetime.date(2024, 12, 13),\n",
       " datetime.date(2024, 12, 16),\n",
       " datetime.date(2024, 12, 17),\n",
       " datetime.date(2024, 12, 18),\n",
       " datetime.date(2024, 12, 19),\n",
       " datetime.date(2024, 12, 20),\n",
       " datetime.date(2024, 12, 23),\n",
       " datetime.date(2024, 12, 24),\n",
       " datetime.date(2024, 12, 26),\n",
       " datetime.date(2024, 12, 27),\n",
       " datetime.date(2024, 12, 30),\n",
       " datetime.date(2024, 12, 31),\n",
       " datetime.date(2025, 1, 2),\n",
       " datetime.date(2025, 1, 3),\n",
       " datetime.date(2025, 1, 6),\n",
       " datetime.date(2025, 1, 7),\n",
       " datetime.date(2025, 1, 8),\n",
       " datetime.date(2025, 1, 9),\n",
       " datetime.date(2025, 1, 10),\n",
       " datetime.date(2025, 1, 13),\n",
       " datetime.date(2025, 1, 14),\n",
       " datetime.date(2025, 1, 15),\n",
       " datetime.date(2025, 1, 16),\n",
       " datetime.date(2025, 1, 17),\n",
       " datetime.date(2025, 1, 21),\n",
       " datetime.date(2025, 1, 22),\n",
       " datetime.date(2025, 1, 23),\n",
       " datetime.date(2025, 1, 24),\n",
       " datetime.date(2025, 1, 27),\n",
       " datetime.date(2025, 1, 28),\n",
       " datetime.date(2025, 1, 29),\n",
       " datetime.date(2025, 1, 30),\n",
       " datetime.date(2025, 1, 31),\n",
       " datetime.date(2025, 2, 3),\n",
       " datetime.date(2025, 2, 4),\n",
       " datetime.date(2025, 2, 5),\n",
       " datetime.date(2025, 2, 6),\n",
       " datetime.date(2025, 2, 7),\n",
       " datetime.date(2025, 2, 10),\n",
       " datetime.date(2025, 2, 11),\n",
       " datetime.date(2025, 2, 12),\n",
       " datetime.date(2025, 2, 13),\n",
       " datetime.date(2025, 2, 14),\n",
       " datetime.date(2025, 2, 18),\n",
       " datetime.date(2025, 2, 19),\n",
       " datetime.date(2025, 2, 20),\n",
       " datetime.date(2025, 2, 21),\n",
       " datetime.date(2025, 2, 24),\n",
       " datetime.date(2025, 2, 25),\n",
       " datetime.date(2025, 2, 26),\n",
       " datetime.date(2025, 2, 27),\n",
       " datetime.date(2025, 2, 28),\n",
       " datetime.date(2025, 3, 3),\n",
       " datetime.date(2025, 3, 4),\n",
       " datetime.date(2025, 3, 5),\n",
       " datetime.date(2025, 3, 6),\n",
       " datetime.date(2025, 3, 7),\n",
       " datetime.date(2025, 3, 10),\n",
       " datetime.date(2025, 3, 11),\n",
       " datetime.date(2025, 3, 12),\n",
       " datetime.date(2025, 3, 13),\n",
       " datetime.date(2025, 3, 14),\n",
       " datetime.date(2025, 3, 17),\n",
       " datetime.date(2025, 3, 18),\n",
       " datetime.date(2025, 3, 19),\n",
       " datetime.date(2025, 3, 20),\n",
       " datetime.date(2025, 3, 21),\n",
       " datetime.date(2025, 3, 24),\n",
       " datetime.date(2025, 3, 25),\n",
       " datetime.date(2025, 3, 26),\n",
       " datetime.date(2025, 3, 27),\n",
       " datetime.date(2025, 3, 28),\n",
       " datetime.date(2025, 3, 31),\n",
       " datetime.date(2025, 4, 1),\n",
       " datetime.date(2025, 4, 2),\n",
       " datetime.date(2025, 4, 3),\n",
       " datetime.date(2025, 4, 4),\n",
       " datetime.date(2025, 4, 7),\n",
       " datetime.date(2025, 4, 8),\n",
       " datetime.date(2025, 4, 9),\n",
       " datetime.date(2025, 4, 10),\n",
       " datetime.date(2025, 4, 11),\n",
       " datetime.date(2025, 4, 14),\n",
       " datetime.date(2025, 4, 15),\n",
       " datetime.date(2025, 4, 16),\n",
       " datetime.date(2025, 4, 17),\n",
       " datetime.date(2025, 4, 21),\n",
       " datetime.date(2025, 4, 22),\n",
       " datetime.date(2025, 4, 23),\n",
       " datetime.date(2025, 4, 24),\n",
       " datetime.date(2025, 4, 25),\n",
       " datetime.date(2025, 4, 28),\n",
       " datetime.date(2025, 4, 29),\n",
       " datetime.date(2025, 4, 30),\n",
       " datetime.date(2025, 5, 1),\n",
       " datetime.date(2025, 5, 2),\n",
       " datetime.date(2025, 5, 5),\n",
       " datetime.date(2025, 5, 6),\n",
       " datetime.date(2025, 5, 7),\n",
       " datetime.date(2025, 5, 8),\n",
       " datetime.date(2025, 5, 9),\n",
       " datetime.date(2025, 5, 12),\n",
       " datetime.date(2025, 5, 13),\n",
       " datetime.date(2025, 5, 14),\n",
       " datetime.date(2025, 5, 15),\n",
       " datetime.date(2025, 5, 16),\n",
       " datetime.date(2025, 5, 19),\n",
       " datetime.date(2025, 5, 20),\n",
       " datetime.date(2025, 5, 21),\n",
       " datetime.date(2025, 5, 22),\n",
       " datetime.date(2025, 5, 23),\n",
       " datetime.date(2025, 5, 27),\n",
       " datetime.date(2025, 5, 28),\n",
       " datetime.date(2025, 5, 29),\n",
       " datetime.date(2025, 5, 30),\n",
       " datetime.date(2025, 6, 2),\n",
       " datetime.date(2025, 6, 3),\n",
       " datetime.date(2025, 6, 4),\n",
       " datetime.date(2025, 6, 5),\n",
       " datetime.date(2025, 6, 6),\n",
       " datetime.date(2025, 6, 9),\n",
       " datetime.date(2025, 6, 10),\n",
       " datetime.date(2025, 6, 11),\n",
       " datetime.date(2025, 6, 12),\n",
       " datetime.date(2025, 6, 13),\n",
       " datetime.date(2025, 6, 16),\n",
       " datetime.date(2025, 6, 17),\n",
       " datetime.date(2025, 6, 18),\n",
       " datetime.date(2025, 6, 20),\n",
       " datetime.date(2025, 6, 23),\n",
       " datetime.date(2025, 6, 24),\n",
       " datetime.date(2025, 6, 25),\n",
       " datetime.date(2025, 6, 26),\n",
       " datetime.date(2025, 6, 27),\n",
       " datetime.date(2025, 6, 30),\n",
       " datetime.date(2025, 7, 1),\n",
       " datetime.date(2025, 7, 2),\n",
       " datetime.date(2025, 7, 3),\n",
       " datetime.date(2025, 7, 7),\n",
       " datetime.date(2025, 7, 8),\n",
       " datetime.date(2025, 7, 9),\n",
       " datetime.date(2025, 7, 10),\n",
       " datetime.date(2025, 7, 11),\n",
       " datetime.date(2025, 7, 14),\n",
       " datetime.date(2025, 7, 15),\n",
       " datetime.date(2025, 7, 16),\n",
       " datetime.date(2025, 7, 17),\n",
       " datetime.date(2025, 7, 18),\n",
       " datetime.date(2025, 7, 21),\n",
       " datetime.date(2025, 7, 22),\n",
       " datetime.date(2025, 7, 23),\n",
       " datetime.date(2025, 7, 24),\n",
       " datetime.date(2025, 7, 25),\n",
       " datetime.date(2025, 7, 28),\n",
       " datetime.date(2025, 7, 29),\n",
       " datetime.date(2025, 7, 30),\n",
       " datetime.date(2025, 7, 31),\n",
       " datetime.date(2025, 8, 1),\n",
       " datetime.date(2025, 8, 4),\n",
       " datetime.date(2025, 8, 5),\n",
       " datetime.date(2025, 8, 6),\n",
       " datetime.date(2025, 8, 7),\n",
       " datetime.date(2025, 8, 8),\n",
       " datetime.date(2025, 8, 11),\n",
       " datetime.date(2025, 8, 12),\n",
       " datetime.date(2025, 8, 13),\n",
       " datetime.date(2025, 8, 14),\n",
       " datetime.date(2025, 8, 15),\n",
       " datetime.date(2025, 8, 18),\n",
       " datetime.date(2025, 8, 19),\n",
       " datetime.date(2025, 8, 20),\n",
       " datetime.date(2025, 8, 21),\n",
       " datetime.date(2025, 8, 22),\n",
       " datetime.date(2025, 8, 25),\n",
       " datetime.date(2025, 8, 26),\n",
       " datetime.date(2025, 8, 27),\n",
       " datetime.date(2025, 8, 28),\n",
       " datetime.date(2025, 8, 29),\n",
       " datetime.date(2025, 9, 2),\n",
       " datetime.date(2025, 9, 3),\n",
       " datetime.date(2025, 9, 4),\n",
       " datetime.date(2025, 9, 5),\n",
       " datetime.date(2025, 9, 8),\n",
       " datetime.date(2025, 9, 9),\n",
       " datetime.date(2025, 9, 10),\n",
       " datetime.date(2025, 9, 11),\n",
       " datetime.date(2025, 9, 12),\n",
       " datetime.date(2025, 9, 15),\n",
       " datetime.date(2025, 9, 16),\n",
       " datetime.date(2025, 9, 17),\n",
       " datetime.date(2025, 9, 18),\n",
       " datetime.date(2025, 9, 19),\n",
       " datetime.date(2025, 9, 22),\n",
       " datetime.date(2025, 9, 23),\n",
       " datetime.date(2025, 9, 24),\n",
       " datetime.date(2025, 9, 25),\n",
       " datetime.date(2025, 9, 26),\n",
       " datetime.date(2025, 9, 29),\n",
       " datetime.date(2025, 9, 30),\n",
       " datetime.date(2025, 10, 1),\n",
       " datetime.date(2025, 10, 2),\n",
       " datetime.date(2025, 10, 3),\n",
       " datetime.date(2025, 10, 6),\n",
       " datetime.date(2025, 10, 7),\n",
       " datetime.date(2025, 10, 8),\n",
       " datetime.date(2025, 10, 9),\n",
       " datetime.date(2025, 10, 10),\n",
       " datetime.date(2025, 10, 13),\n",
       " datetime.date(2025, 10, 14),\n",
       " datetime.date(2025, 10, 15),\n",
       " datetime.date(2025, 10, 16),\n",
       " datetime.date(2025, 10, 17),\n",
       " datetime.date(2025, 10, 20),\n",
       " datetime.date(2025, 10, 21),\n",
       " datetime.date(2025, 10, 22),\n",
       " datetime.date(2025, 10, 23),\n",
       " datetime.date(2025, 10, 24),\n",
       " datetime.date(2025, 10, 27),\n",
       " datetime.date(2025, 10, 28),\n",
       " datetime.date(2025, 10, 29),\n",
       " datetime.date(2025, 10, 30),\n",
       " datetime.date(2025, 10, 31),\n",
       " datetime.date(2025, 11, 3),\n",
       " datetime.date(2025, 11, 4),\n",
       " datetime.date(2025, 11, 5),\n",
       " datetime.date(2025, 11, 6),\n",
       " datetime.date(2025, 11, 7),\n",
       " datetime.date(2025, 11, 10),\n",
       " datetime.date(2025, 11, 11),\n",
       " datetime.date(2025, 11, 12),\n",
       " datetime.date(2025, 11, 13),\n",
       " datetime.date(2025, 11, 14),\n",
       " datetime.date(2025, 11, 17),\n",
       " datetime.date(2025, 11, 18),\n",
       " datetime.date(2025, 11, 19),\n",
       " datetime.date(2025, 11, 20),\n",
       " datetime.date(2025, 11, 21),\n",
       " datetime.date(2025, 11, 24),\n",
       " datetime.date(2025, 11, 25),\n",
       " datetime.date(2025, 11, 26),\n",
       " datetime.date(2025, 11, 28),\n",
       " datetime.date(2025, 12, 1),\n",
       " datetime.date(2025, 12, 2),\n",
       " datetime.date(2025, 12, 3),\n",
       " datetime.date(2025, 12, 4),\n",
       " datetime.date(2025, 12, 5),\n",
       " datetime.date(2025, 12, 8),\n",
       " datetime.date(2025, 12, 9),\n",
       " datetime.date(2025, 12, 10),\n",
       " datetime.date(2025, 12, 11),\n",
       " datetime.date(2025, 12, 12),\n",
       " datetime.date(2025, 12, 15),\n",
       " datetime.date(2025, 12, 16),\n",
       " datetime.date(2025, 12, 17),\n",
       " datetime.date(2025, 12, 18),\n",
       " datetime.date(2025, 12, 19),\n",
       " datetime.date(2025, 12, 22),\n",
       " datetime.date(2025, 12, 23),\n",
       " datetime.date(2025, 12, 24),\n",
       " ...]"
      ]
     },
     "execution_count": 59,
     "metadata": {},
     "output_type": "execute_result"
    }
   ],
   "source": [
    "nyse_dates = mcal.get_calendar('NYSE')\n",
    "nyse_dates = list(nyse_dates.valid_days(start_date='2022-01-01', end_date='2030-02-12'))\n",
    "nyse_dates = [dt.date() for dt in nyse_dates]\n",
    "\n",
    "nyse_dates"
   ]
  },
  {
   "cell_type": "code",
   "execution_count": 60,
   "metadata": {},
   "outputs": [],
   "source": [
    "def next_market_day(date):\n",
    "    while date.date() not in nyse_dates:\n",
    "        date += datetime.timedelta(days=1)\n",
    "    return date"
   ]
  },
  {
   "cell_type": "code",
   "execution_count": 61,
   "metadata": {},
   "outputs": [
    {
     "data": {
      "text/html": [
       "<div>\n",
       "<style scoped>\n",
       "    .dataframe tbody tr th:only-of-type {\n",
       "        vertical-align: middle;\n",
       "    }\n",
       "\n",
       "    .dataframe tbody tr th {\n",
       "        vertical-align: top;\n",
       "    }\n",
       "\n",
       "    .dataframe thead th {\n",
       "        text-align: right;\n",
       "    }\n",
       "</style>\n",
       "<table border=\"1\" class=\"dataframe\">\n",
       "  <thead>\n",
       "    <tr style=\"text-align: right;\">\n",
       "      <th></th>\n",
       "      <th>Ticker (Equities/ETFs only)</th>\n",
       "      <th>Position (Long = 1, Short = -1)</th>\n",
       "      <th>Entry Date</th>\n",
       "      <th>Exit Date</th>\n",
       "      <th>Negative Alumni Response (No response/not negative = 0, Negative = 1)</th>\n",
       "    </tr>\n",
       "  </thead>\n",
       "  <tbody>\n",
       "    <tr>\n",
       "      <th>0</th>\n",
       "      <td>SIX</td>\n",
       "      <td>-1</td>\n",
       "      <td>2022-11-06</td>\n",
       "      <td>2023-04-06</td>\n",
       "      <td>0</td>\n",
       "    </tr>\n",
       "    <tr>\n",
       "      <th>1</th>\n",
       "      <td>DISH</td>\n",
       "      <td>-1</td>\n",
       "      <td>2022-11-06</td>\n",
       "      <td>2023-11-06</td>\n",
       "      <td>0</td>\n",
       "    </tr>\n",
       "    <tr>\n",
       "      <th>2</th>\n",
       "      <td>PLNT</td>\n",
       "      <td>1</td>\n",
       "      <td>2022-11-08</td>\n",
       "      <td>2023-05-08</td>\n",
       "      <td>0</td>\n",
       "    </tr>\n",
       "    <tr>\n",
       "      <th>3</th>\n",
       "      <td>MMM</td>\n",
       "      <td>-1</td>\n",
       "      <td>2022-11-08</td>\n",
       "      <td>2023-01-08</td>\n",
       "      <td>0</td>\n",
       "    </tr>\n",
       "    <tr>\n",
       "      <th>4</th>\n",
       "      <td>NFLX</td>\n",
       "      <td>-1</td>\n",
       "      <td>2022-11-09</td>\n",
       "      <td>2023-05-09</td>\n",
       "      <td>1</td>\n",
       "    </tr>\n",
       "    <tr>\n",
       "      <th>...</th>\n",
       "      <td>...</td>\n",
       "      <td>...</td>\n",
       "      <td>...</td>\n",
       "      <td>...</td>\n",
       "      <td>...</td>\n",
       "    </tr>\n",
       "    <tr>\n",
       "      <th>190</th>\n",
       "      <td>TMUS</td>\n",
       "      <td>1</td>\n",
       "      <td>2023-11-09</td>\n",
       "      <td>2024-11-09</td>\n",
       "      <td>0</td>\n",
       "    </tr>\n",
       "    <tr>\n",
       "      <th>191</th>\n",
       "      <td>TSM</td>\n",
       "      <td>1</td>\n",
       "      <td>2023-11-09</td>\n",
       "      <td>2024-11-09</td>\n",
       "      <td>0</td>\n",
       "    </tr>\n",
       "    <tr>\n",
       "      <th>192</th>\n",
       "      <td>SBUX</td>\n",
       "      <td>-1</td>\n",
       "      <td>2023-11-11</td>\n",
       "      <td>2023-12-26</td>\n",
       "      <td>0</td>\n",
       "    </tr>\n",
       "    <tr>\n",
       "      <th>193</th>\n",
       "      <td>NOW</td>\n",
       "      <td>1</td>\n",
       "      <td>2023-11-13</td>\n",
       "      <td>2024-02-13</td>\n",
       "      <td>0</td>\n",
       "    </tr>\n",
       "    <tr>\n",
       "      <th>194</th>\n",
       "      <td>XOM</td>\n",
       "      <td>1</td>\n",
       "      <td>2023-11-14</td>\n",
       "      <td>2023-11-28</td>\n",
       "      <td>0</td>\n",
       "    </tr>\n",
       "  </tbody>\n",
       "</table>\n",
       "<p>195 rows × 5 columns</p>\n",
       "</div>"
      ],
      "text/plain": [
       "    Ticker (Equities/ETFs only)  Position (Long = 1, Short = -1) Entry Date  \\\n",
       "0                           SIX                               -1 2022-11-06   \n",
       "1                          DISH                               -1 2022-11-06   \n",
       "2                          PLNT                                1 2022-11-08   \n",
       "3                           MMM                               -1 2022-11-08   \n",
       "4                          NFLX                               -1 2022-11-09   \n",
       "..                          ...                              ...        ...   \n",
       "190                        TMUS                                1 2023-11-09   \n",
       "191                         TSM                                1 2023-11-09   \n",
       "192                        SBUX                               -1 2023-11-11   \n",
       "193                         NOW                                1 2023-11-13   \n",
       "194                         XOM                                1 2023-11-14   \n",
       "\n",
       "     Exit Date  \\\n",
       "0   2023-04-06   \n",
       "1   2023-11-06   \n",
       "2   2023-05-08   \n",
       "3   2023-01-08   \n",
       "4   2023-05-09   \n",
       "..         ...   \n",
       "190 2024-11-09   \n",
       "191 2024-11-09   \n",
       "192 2023-12-26   \n",
       "193 2024-02-13   \n",
       "194 2023-11-28   \n",
       "\n",
       "     Negative Alumni Response (No response/not negative = 0, Negative = 1)  \n",
       "0                                                    0                      \n",
       "1                                                    0                      \n",
       "2                                                    0                      \n",
       "3                                                    0                      \n",
       "4                                                    1                      \n",
       "..                                                 ...                      \n",
       "190                                                  0                      \n",
       "191                                                  0                      \n",
       "192                                                  0                      \n",
       "193                                                  0                      \n",
       "194                                                  0                      \n",
       "\n",
       "[195 rows x 5 columns]"
      ]
     },
     "execution_count": 61,
     "metadata": {},
     "output_type": "execute_result"
    }
   ],
   "source": [
    "df = pd.read_excel(\"WIW Data.xlsx\")\n",
    "# df = df.iloc[:, :-3]\n",
    "\n",
    "\n",
    "df\n"
   ]
  },
  {
   "cell_type": "code",
   "execution_count": 62,
   "metadata": {},
   "outputs": [
    {
     "data": {
      "text/html": [
       "<div>\n",
       "<style scoped>\n",
       "    .dataframe tbody tr th:only-of-type {\n",
       "        vertical-align: middle;\n",
       "    }\n",
       "\n",
       "    .dataframe tbody tr th {\n",
       "        vertical-align: top;\n",
       "    }\n",
       "\n",
       "    .dataframe thead th {\n",
       "        text-align: right;\n",
       "    }\n",
       "</style>\n",
       "<table border=\"1\" class=\"dataframe\">\n",
       "  <thead>\n",
       "    <tr style=\"text-align: right;\">\n",
       "      <th></th>\n",
       "      <th>Ticker (Equities/ETFs only)</th>\n",
       "      <th>Position (Long = 1, Short = -1)</th>\n",
       "      <th>Entry Date</th>\n",
       "      <th>Exit Date</th>\n",
       "      <th>Negative Alumni Response (No response/not negative = 0, Negative = 1)</th>\n",
       "    </tr>\n",
       "  </thead>\n",
       "  <tbody>\n",
       "    <tr>\n",
       "      <th>0</th>\n",
       "      <td>SIX</td>\n",
       "      <td>-1</td>\n",
       "      <td>2022-11-06</td>\n",
       "      <td>2023-04-06</td>\n",
       "      <td>0</td>\n",
       "    </tr>\n",
       "    <tr>\n",
       "      <th>1</th>\n",
       "      <td>DISH</td>\n",
       "      <td>-1</td>\n",
       "      <td>2022-11-06</td>\n",
       "      <td>2023-11-06</td>\n",
       "      <td>0</td>\n",
       "    </tr>\n",
       "    <tr>\n",
       "      <th>2</th>\n",
       "      <td>PLNT</td>\n",
       "      <td>1</td>\n",
       "      <td>2022-11-08</td>\n",
       "      <td>2023-05-08</td>\n",
       "      <td>0</td>\n",
       "    </tr>\n",
       "    <tr>\n",
       "      <th>3</th>\n",
       "      <td>MMM</td>\n",
       "      <td>-1</td>\n",
       "      <td>2022-11-08</td>\n",
       "      <td>2023-01-08</td>\n",
       "      <td>0</td>\n",
       "    </tr>\n",
       "    <tr>\n",
       "      <th>4</th>\n",
       "      <td>NFLX</td>\n",
       "      <td>-1</td>\n",
       "      <td>2022-11-09</td>\n",
       "      <td>2023-05-09</td>\n",
       "      <td>1</td>\n",
       "    </tr>\n",
       "  </tbody>\n",
       "</table>\n",
       "</div>"
      ],
      "text/plain": [
       "  Ticker (Equities/ETFs only)  Position (Long = 1, Short = -1) Entry Date  \\\n",
       "0                         SIX                               -1 2022-11-06   \n",
       "1                        DISH                               -1 2022-11-06   \n",
       "2                        PLNT                                1 2022-11-08   \n",
       "3                         MMM                               -1 2022-11-08   \n",
       "4                        NFLX                               -1 2022-11-09   \n",
       "\n",
       "   Exit Date  \\\n",
       "0 2023-04-06   \n",
       "1 2023-11-06   \n",
       "2 2023-05-08   \n",
       "3 2023-01-08   \n",
       "4 2023-05-09   \n",
       "\n",
       "   Negative Alumni Response (No response/not negative = 0, Negative = 1)  \n",
       "0                                                  0                      \n",
       "1                                                  0                      \n",
       "2                                                  0                      \n",
       "3                                                  0                      \n",
       "4                                                  1                      "
      ]
     },
     "execution_count": 62,
     "metadata": {},
     "output_type": "execute_result"
    }
   ],
   "source": [
    "df.head()"
   ]
  },
  {
   "cell_type": "code",
   "execution_count": 63,
   "metadata": {},
   "outputs": [
    {
     "data": {
      "text/plain": [
       "array(['SIX', 'DISH', 'PLNT', 'MMM', 'NFLX', 'RKLB', 'FIVE', 'EL', 'ORLY',\n",
       "       'RUN', 'VECO', 'UHS', 'V', 'RTX', 'MCD', 'NTDOY', 'GLBE', 'GOOG',\n",
       "       'NUE', 'UBER', 'AAPL', 'TR', 'VFC', 'MSFT', 'SLDP', 'GOOGL',\n",
       "       'SBUX', 'BTU', 'SPOT', 'NVDA', 'LVMUY', 'DDOG', 'PWR', 'ON',\n",
       "       'PERI', 'CVS', 'BABA', 'IEUR', 'ADANIENT.NS', 'HD', 'ATZAF', 'VZ',\n",
       "       'ASML', 'XLY', 'HSY', 'FSR', 'GIS', 'BROS', 'CSCO', 'ASRT', 'CIBR',\n",
       "       'CRM', 'NUVA', 'CFLT', 'CIEN', 'TGLS', 'CRWD', 'BOOT', 'ELF',\n",
       "       'MANU', 'LYV', 'MDB', 'NOMD', 'BIDU', 'INMD', 'OPRA', 'RACE',\n",
       "       'RBLX', 'PANW', 'XFAB', 'VRRM', 'CPRI', 'RH', 'SI=F', 'ZTS',\n",
       "       'FARO', 'DVN', 'MAR', 'CE', 'ONON', 'GOLF', 'EA', 'HCP', 'XOM',\n",
       "       'CRK', 'FFZ3', 'FERG', 'CMBX', 'DME', 'DE', 'TSMC', 'WFC', 'LSPN',\n",
       "       'ADSK', 'ICE:DXY', 'SHOP', 'MU', 'TPC', 'LUV', 'TSLA', 'WTI',\n",
       "       'VLD', 'U', 'CC', 'AMZN', 'ETSY', 'CROX', 'ALGN', 'PLTR', 'NOC',\n",
       "       'TSN', 'MRNA', 'HPE', 'SYM', 'ALB', 'UAA', 'BTC', 'PRM', 'WOLF',\n",
       "       'COUR', 'GLD', 'SRS', 'LMT', 'SNY', 'KR'], dtype=object)"
      ]
     },
     "execution_count": 63,
     "metadata": {},
     "output_type": "execute_result"
    }
   ],
   "source": [
    "def update_exit_date(row):\n",
    "    if row['Exit Date'] > datetime.datetime(2024, 2, 9) and (row['Exit Date'] - row['Entry Date']).days >= 180:\n",
    "        return datetime.datetime(2024, 2, 9)\n",
    "    else:\n",
    "        return row['Exit Date']\n",
    "\n",
    "df = df.dropna()\n",
    "df = df[df['Exit Date'] <= datetime.datetime(2024, 6, 1)]\n",
    "df['Exit Date'] = df.apply(update_exit_date, axis=1)\n",
    "\n",
    "df = df[df['Exit Date'] <= datetime.datetime(2024, 2, 9)]\n",
    "\n",
    "\n",
    "# Step 3: Convert the date column to datetime if it's not already\n",
    "df[\"Entry Date\"] = df[\"Entry Date\"].apply(next_market_day)\n",
    "df[\"Exit Date\"] = df[\"Exit Date\"].apply(next_market_day)\n",
    "\n",
    "df = df[df['Exit Date'] > df['Entry Date']]\n",
    "\n",
    "unique_symbols = df['Ticker (Equities/ETFs only)'].unique()\n",
    "unique_symbols\n"
   ]
  },
  {
   "cell_type": "code",
   "execution_count": 64,
   "metadata": {},
   "outputs": [
    {
     "name": "stdout",
     "output_type": "stream",
     "text": [
      "SIX\n",
      "[*********************100%%**********************]  1 of 1 completed"
     ]
    },
    {
     "name": "stderr",
     "output_type": "stream",
     "text": [
      "C:\\Users\\surya\\AppData\\Roaming\\Python\\Python311\\site-packages\\yfinance\\utils.py:788: FutureWarning: The 'unit' keyword in TimedeltaIndex construction is deprecated and will be removed in a future version. Use pd.to_timedelta instead.\n",
      "  df.index += _pd.TimedeltaIndex(dst_error_hours, 'h')\n"
     ]
    },
    {
     "name": "stdout",
     "output_type": "stream",
     "text": [
      "\n",
      "DISH\n",
      "[*********************100%%**********************]  1 of 1 completed\n",
      "PLNT\n",
      "[*********************100%%**********************]  1 of 1 completed"
     ]
    },
    {
     "name": "stderr",
     "output_type": "stream",
     "text": [
      "C:\\Users\\surya\\AppData\\Roaming\\Python\\Python311\\site-packages\\yfinance\\utils.py:788: FutureWarning: The 'unit' keyword in TimedeltaIndex construction is deprecated and will be removed in a future version. Use pd.to_timedelta instead.\n",
      "  df.index += _pd.TimedeltaIndex(dst_error_hours, 'h')\n",
      "C:\\Users\\surya\\AppData\\Roaming\\Python\\Python311\\site-packages\\yfinance\\utils.py:788: FutureWarning: The 'unit' keyword in TimedeltaIndex construction is deprecated and will be removed in a future version. Use pd.to_timedelta instead.\n",
      "  df.index += _pd.TimedeltaIndex(dst_error_hours, 'h')\n"
     ]
    },
    {
     "name": "stdout",
     "output_type": "stream",
     "text": [
      "\n",
      "MMM\n",
      "[*********************100%%**********************]  1 of 1 completed"
     ]
    },
    {
     "name": "stderr",
     "output_type": "stream",
     "text": [
      "C:\\Users\\surya\\AppData\\Roaming\\Python\\Python311\\site-packages\\yfinance\\utils.py:788: FutureWarning: The 'unit' keyword in TimedeltaIndex construction is deprecated and will be removed in a future version. Use pd.to_timedelta instead.\n",
      "  df.index += _pd.TimedeltaIndex(dst_error_hours, 'h')\n"
     ]
    },
    {
     "name": "stdout",
     "output_type": "stream",
     "text": [
      "\n",
      "NFLX\n",
      "[*********************100%%**********************]  1 of 1 completed\n",
      "RKLB\n",
      "[*********************100%%**********************]  1 of 1 completed"
     ]
    },
    {
     "name": "stderr",
     "output_type": "stream",
     "text": [
      "C:\\Users\\surya\\AppData\\Roaming\\Python\\Python311\\site-packages\\yfinance\\utils.py:788: FutureWarning: The 'unit' keyword in TimedeltaIndex construction is deprecated and will be removed in a future version. Use pd.to_timedelta instead.\n",
      "  df.index += _pd.TimedeltaIndex(dst_error_hours, 'h')\n",
      "C:\\Users\\surya\\AppData\\Roaming\\Python\\Python311\\site-packages\\yfinance\\utils.py:788: FutureWarning: The 'unit' keyword in TimedeltaIndex construction is deprecated and will be removed in a future version. Use pd.to_timedelta instead.\n",
      "  df.index += _pd.TimedeltaIndex(dst_error_hours, 'h')\n"
     ]
    },
    {
     "name": "stdout",
     "output_type": "stream",
     "text": [
      "\n",
      "FIVE\n",
      "[*********************100%%**********************]  1 of 1 completed"
     ]
    },
    {
     "name": "stderr",
     "output_type": "stream",
     "text": [
      "C:\\Users\\surya\\AppData\\Roaming\\Python\\Python311\\site-packages\\yfinance\\utils.py:788: FutureWarning: The 'unit' keyword in TimedeltaIndex construction is deprecated and will be removed in a future version. Use pd.to_timedelta instead.\n",
      "  df.index += _pd.TimedeltaIndex(dst_error_hours, 'h')\n"
     ]
    },
    {
     "name": "stdout",
     "output_type": "stream",
     "text": [
      "\n",
      "EL\n",
      "[*********************100%%**********************]  1 of 1 completed"
     ]
    },
    {
     "name": "stderr",
     "output_type": "stream",
     "text": [
      "C:\\Users\\surya\\AppData\\Roaming\\Python\\Python311\\site-packages\\yfinance\\utils.py:788: FutureWarning: The 'unit' keyword in TimedeltaIndex construction is deprecated and will be removed in a future version. Use pd.to_timedelta instead.\n",
      "  df.index += _pd.TimedeltaIndex(dst_error_hours, 'h')\n"
     ]
    },
    {
     "name": "stdout",
     "output_type": "stream",
     "text": [
      "\n",
      "ORLY\n",
      "[*********************100%%**********************]  1 of 1 completed"
     ]
    },
    {
     "name": "stderr",
     "output_type": "stream",
     "text": [
      "C:\\Users\\surya\\AppData\\Roaming\\Python\\Python311\\site-packages\\yfinance\\utils.py:788: FutureWarning: The 'unit' keyword in TimedeltaIndex construction is deprecated and will be removed in a future version. Use pd.to_timedelta instead.\n",
      "  df.index += _pd.TimedeltaIndex(dst_error_hours, 'h')\n",
      "C:\\Users\\surya\\AppData\\Roaming\\Python\\Python311\\site-packages\\yfinance\\utils.py:788: FutureWarning: The 'unit' keyword in TimedeltaIndex construction is deprecated and will be removed in a future version. Use pd.to_timedelta instead.\n",
      "  df.index += _pd.TimedeltaIndex(dst_error_hours, 'h')\n"
     ]
    },
    {
     "name": "stdout",
     "output_type": "stream",
     "text": [
      "\n",
      "RUN\n",
      "[*********************100%%**********************]  1 of 1 completed\n",
      "VECO\n",
      "[*********************100%%**********************]  1 of 1 completed"
     ]
    },
    {
     "name": "stderr",
     "output_type": "stream",
     "text": [
      "C:\\Users\\surya\\AppData\\Roaming\\Python\\Python311\\site-packages\\yfinance\\utils.py:788: FutureWarning: The 'unit' keyword in TimedeltaIndex construction is deprecated and will be removed in a future version. Use pd.to_timedelta instead.\n",
      "  df.index += _pd.TimedeltaIndex(dst_error_hours, 'h')\n"
     ]
    },
    {
     "name": "stdout",
     "output_type": "stream",
     "text": [
      "\n",
      "UHS\n",
      "[*********************100%%**********************]  1 of 1 completed"
     ]
    },
    {
     "name": "stderr",
     "output_type": "stream",
     "text": [
      "C:\\Users\\surya\\AppData\\Roaming\\Python\\Python311\\site-packages\\yfinance\\utils.py:788: FutureWarning: The 'unit' keyword in TimedeltaIndex construction is deprecated and will be removed in a future version. Use pd.to_timedelta instead.\n",
      "  df.index += _pd.TimedeltaIndex(dst_error_hours, 'h')\n"
     ]
    },
    {
     "name": "stdout",
     "output_type": "stream",
     "text": [
      "\n",
      "V\n",
      "[*********************100%%**********************]  1 of 1 completed"
     ]
    },
    {
     "name": "stderr",
     "output_type": "stream",
     "text": [
      "C:\\Users\\surya\\AppData\\Roaming\\Python\\Python311\\site-packages\\yfinance\\utils.py:788: FutureWarning: The 'unit' keyword in TimedeltaIndex construction is deprecated and will be removed in a future version. Use pd.to_timedelta instead.\n",
      "  df.index += _pd.TimedeltaIndex(dst_error_hours, 'h')\n"
     ]
    },
    {
     "name": "stdout",
     "output_type": "stream",
     "text": [
      "\n",
      "RTX\n",
      "[*********************100%%**********************]  1 of 1 completed"
     ]
    },
    {
     "name": "stderr",
     "output_type": "stream",
     "text": [
      "C:\\Users\\surya\\AppData\\Roaming\\Python\\Python311\\site-packages\\yfinance\\utils.py:788: FutureWarning: The 'unit' keyword in TimedeltaIndex construction is deprecated and will be removed in a future version. Use pd.to_timedelta instead.\n",
      "  df.index += _pd.TimedeltaIndex(dst_error_hours, 'h')\n"
     ]
    },
    {
     "name": "stdout",
     "output_type": "stream",
     "text": [
      "\n",
      "MCD\n",
      "[*********************100%%**********************]  1 of 1 completed\n",
      "NTDOY\n",
      "[*********************100%%**********************]  1 of 1 completed"
     ]
    },
    {
     "name": "stderr",
     "output_type": "stream",
     "text": [
      "C:\\Users\\surya\\AppData\\Roaming\\Python\\Python311\\site-packages\\yfinance\\utils.py:788: FutureWarning: The 'unit' keyword in TimedeltaIndex construction is deprecated and will be removed in a future version. Use pd.to_timedelta instead.\n",
      "  df.index += _pd.TimedeltaIndex(dst_error_hours, 'h')\n",
      "C:\\Users\\surya\\AppData\\Roaming\\Python\\Python311\\site-packages\\yfinance\\utils.py:788: FutureWarning: The 'unit' keyword in TimedeltaIndex construction is deprecated and will be removed in a future version. Use pd.to_timedelta instead.\n",
      "  df.index += _pd.TimedeltaIndex(dst_error_hours, 'h')\n"
     ]
    },
    {
     "name": "stdout",
     "output_type": "stream",
     "text": [
      "\n",
      "GLBE\n",
      "[*********************100%%**********************]  1 of 1 completed"
     ]
    },
    {
     "name": "stderr",
     "output_type": "stream",
     "text": [
      "C:\\Users\\surya\\AppData\\Roaming\\Python\\Python311\\site-packages\\yfinance\\utils.py:788: FutureWarning: The 'unit' keyword in TimedeltaIndex construction is deprecated and will be removed in a future version. Use pd.to_timedelta instead.\n",
      "  df.index += _pd.TimedeltaIndex(dst_error_hours, 'h')\n"
     ]
    },
    {
     "name": "stdout",
     "output_type": "stream",
     "text": [
      "\n",
      "GOOG\n",
      "[*********************100%%**********************]  1 of 1 completed"
     ]
    },
    {
     "name": "stderr",
     "output_type": "stream",
     "text": [
      "C:\\Users\\surya\\AppData\\Roaming\\Python\\Python311\\site-packages\\yfinance\\utils.py:788: FutureWarning: The 'unit' keyword in TimedeltaIndex construction is deprecated and will be removed in a future version. Use pd.to_timedelta instead.\n",
      "  df.index += _pd.TimedeltaIndex(dst_error_hours, 'h')\n"
     ]
    },
    {
     "name": "stdout",
     "output_type": "stream",
     "text": [
      "\n",
      "NUE\n",
      "[*********************100%%**********************]  1 of 1 completed"
     ]
    },
    {
     "name": "stderr",
     "output_type": "stream",
     "text": [
      "C:\\Users\\surya\\AppData\\Roaming\\Python\\Python311\\site-packages\\yfinance\\utils.py:788: FutureWarning: The 'unit' keyword in TimedeltaIndex construction is deprecated and will be removed in a future version. Use pd.to_timedelta instead.\n",
      "  df.index += _pd.TimedeltaIndex(dst_error_hours, 'h')\n"
     ]
    },
    {
     "name": "stdout",
     "output_type": "stream",
     "text": [
      "\n",
      "UBER\n",
      "[*********************100%%**********************]  1 of 1 completed"
     ]
    },
    {
     "name": "stderr",
     "output_type": "stream",
     "text": [
      "C:\\Users\\surya\\AppData\\Roaming\\Python\\Python311\\site-packages\\yfinance\\utils.py:788: FutureWarning: The 'unit' keyword in TimedeltaIndex construction is deprecated and will be removed in a future version. Use pd.to_timedelta instead.\n",
      "  df.index += _pd.TimedeltaIndex(dst_error_hours, 'h')\n"
     ]
    },
    {
     "name": "stdout",
     "output_type": "stream",
     "text": [
      "\n",
      "AAPL\n",
      "[*********************100%%**********************]  1 of 1 completed"
     ]
    },
    {
     "name": "stderr",
     "output_type": "stream",
     "text": [
      "C:\\Users\\surya\\AppData\\Roaming\\Python\\Python311\\site-packages\\yfinance\\utils.py:788: FutureWarning: The 'unit' keyword in TimedeltaIndex construction is deprecated and will be removed in a future version. Use pd.to_timedelta instead.\n",
      "  df.index += _pd.TimedeltaIndex(dst_error_hours, 'h')\n"
     ]
    },
    {
     "name": "stdout",
     "output_type": "stream",
     "text": [
      "\n",
      "TR\n",
      "[*********************100%%**********************]  1 of 1 completed"
     ]
    },
    {
     "name": "stderr",
     "output_type": "stream",
     "text": [
      "C:\\Users\\surya\\AppData\\Roaming\\Python\\Python311\\site-packages\\yfinance\\utils.py:788: FutureWarning: The 'unit' keyword in TimedeltaIndex construction is deprecated and will be removed in a future version. Use pd.to_timedelta instead.\n",
      "  df.index += _pd.TimedeltaIndex(dst_error_hours, 'h')\n"
     ]
    },
    {
     "name": "stdout",
     "output_type": "stream",
     "text": [
      "\n",
      "VFC\n",
      "[*********************100%%**********************]  1 of 1 completed"
     ]
    },
    {
     "name": "stderr",
     "output_type": "stream",
     "text": [
      "C:\\Users\\surya\\AppData\\Roaming\\Python\\Python311\\site-packages\\yfinance\\utils.py:788: FutureWarning: The 'unit' keyword in TimedeltaIndex construction is deprecated and will be removed in a future version. Use pd.to_timedelta instead.\n",
      "  df.index += _pd.TimedeltaIndex(dst_error_hours, 'h')\n"
     ]
    },
    {
     "name": "stdout",
     "output_type": "stream",
     "text": [
      "\n",
      "MSFT\n",
      "[*********************100%%**********************]  1 of 1 completed\n",
      "SLDP\n",
      "[*********************100%%**********************]  1 of 1 completed"
     ]
    },
    {
     "name": "stderr",
     "output_type": "stream",
     "text": [
      "C:\\Users\\surya\\AppData\\Roaming\\Python\\Python311\\site-packages\\yfinance\\utils.py:788: FutureWarning: The 'unit' keyword in TimedeltaIndex construction is deprecated and will be removed in a future version. Use pd.to_timedelta instead.\n",
      "  df.index += _pd.TimedeltaIndex(dst_error_hours, 'h')\n",
      "C:\\Users\\surya\\AppData\\Roaming\\Python\\Python311\\site-packages\\yfinance\\utils.py:788: FutureWarning: The 'unit' keyword in TimedeltaIndex construction is deprecated and will be removed in a future version. Use pd.to_timedelta instead.\n",
      "  df.index += _pd.TimedeltaIndex(dst_error_hours, 'h')\n"
     ]
    },
    {
     "name": "stdout",
     "output_type": "stream",
     "text": [
      "\n",
      "GOOGL\n",
      "[*********************100%%**********************]  1 of 1 completed"
     ]
    },
    {
     "name": "stderr",
     "output_type": "stream",
     "text": [
      "C:\\Users\\surya\\AppData\\Roaming\\Python\\Python311\\site-packages\\yfinance\\utils.py:788: FutureWarning: The 'unit' keyword in TimedeltaIndex construction is deprecated and will be removed in a future version. Use pd.to_timedelta instead.\n",
      "  df.index += _pd.TimedeltaIndex(dst_error_hours, 'h')\n"
     ]
    },
    {
     "name": "stdout",
     "output_type": "stream",
     "text": [
      "\n",
      "SBUX\n",
      "[*********************100%%**********************]  1 of 1 completed"
     ]
    },
    {
     "name": "stderr",
     "output_type": "stream",
     "text": [
      "C:\\Users\\surya\\AppData\\Roaming\\Python\\Python311\\site-packages\\yfinance\\utils.py:788: FutureWarning: The 'unit' keyword in TimedeltaIndex construction is deprecated and will be removed in a future version. Use pd.to_timedelta instead.\n",
      "  df.index += _pd.TimedeltaIndex(dst_error_hours, 'h')\n"
     ]
    },
    {
     "name": "stdout",
     "output_type": "stream",
     "text": [
      "\n",
      "BTU\n",
      "[*********************100%%**********************]  1 of 1 completed"
     ]
    },
    {
     "name": "stderr",
     "output_type": "stream",
     "text": [
      "C:\\Users\\surya\\AppData\\Roaming\\Python\\Python311\\site-packages\\yfinance\\utils.py:788: FutureWarning: The 'unit' keyword in TimedeltaIndex construction is deprecated and will be removed in a future version. Use pd.to_timedelta instead.\n",
      "  df.index += _pd.TimedeltaIndex(dst_error_hours, 'h')\n"
     ]
    },
    {
     "name": "stdout",
     "output_type": "stream",
     "text": [
      "\n",
      "SPOT\n",
      "[*********************100%%**********************]  1 of 1 completed"
     ]
    },
    {
     "name": "stderr",
     "output_type": "stream",
     "text": [
      "C:\\Users\\surya\\AppData\\Roaming\\Python\\Python311\\site-packages\\yfinance\\utils.py:788: FutureWarning: The 'unit' keyword in TimedeltaIndex construction is deprecated and will be removed in a future version. Use pd.to_timedelta instead.\n",
      "  df.index += _pd.TimedeltaIndex(dst_error_hours, 'h')\n",
      "C:\\Users\\surya\\AppData\\Roaming\\Python\\Python311\\site-packages\\yfinance\\utils.py:788: FutureWarning: The 'unit' keyword in TimedeltaIndex construction is deprecated and will be removed in a future version. Use pd.to_timedelta instead.\n",
      "  df.index += _pd.TimedeltaIndex(dst_error_hours, 'h')\n"
     ]
    },
    {
     "name": "stdout",
     "output_type": "stream",
     "text": [
      "\n",
      "NVDA\n",
      "[*********************100%%**********************]  1 of 1 completed\n",
      "LVMUY\n",
      "[*********************100%%**********************]  1 of 1 completed"
     ]
    },
    {
     "name": "stderr",
     "output_type": "stream",
     "text": [
      "C:\\Users\\surya\\AppData\\Roaming\\Python\\Python311\\site-packages\\yfinance\\utils.py:788: FutureWarning: The 'unit' keyword in TimedeltaIndex construction is deprecated and will be removed in a future version. Use pd.to_timedelta instead.\n",
      "  df.index += _pd.TimedeltaIndex(dst_error_hours, 'h')\n"
     ]
    },
    {
     "name": "stdout",
     "output_type": "stream",
     "text": [
      "\n",
      "DDOG\n",
      "[*********************100%%**********************]  1 of 1 completed"
     ]
    },
    {
     "name": "stderr",
     "output_type": "stream",
     "text": [
      "C:\\Users\\surya\\AppData\\Roaming\\Python\\Python311\\site-packages\\yfinance\\utils.py:788: FutureWarning: The 'unit' keyword in TimedeltaIndex construction is deprecated and will be removed in a future version. Use pd.to_timedelta instead.\n",
      "  df.index += _pd.TimedeltaIndex(dst_error_hours, 'h')\n"
     ]
    },
    {
     "name": "stdout",
     "output_type": "stream",
     "text": [
      "\n",
      "PWR\n",
      "[*********************100%%**********************]  1 of 1 completed"
     ]
    },
    {
     "name": "stderr",
     "output_type": "stream",
     "text": [
      "C:\\Users\\surya\\AppData\\Roaming\\Python\\Python311\\site-packages\\yfinance\\utils.py:788: FutureWarning: The 'unit' keyword in TimedeltaIndex construction is deprecated and will be removed in a future version. Use pd.to_timedelta instead.\n",
      "  df.index += _pd.TimedeltaIndex(dst_error_hours, 'h')\n"
     ]
    },
    {
     "name": "stdout",
     "output_type": "stream",
     "text": [
      "\n",
      "ON\n",
      "[*********************100%%**********************]  1 of 1 completed\n",
      "PERI\n",
      "[*********************100%%**********************]  1 of 1 completed"
     ]
    },
    {
     "name": "stderr",
     "output_type": "stream",
     "text": [
      "C:\\Users\\surya\\AppData\\Roaming\\Python\\Python311\\site-packages\\yfinance\\utils.py:788: FutureWarning: The 'unit' keyword in TimedeltaIndex construction is deprecated and will be removed in a future version. Use pd.to_timedelta instead.\n",
      "  df.index += _pd.TimedeltaIndex(dst_error_hours, 'h')\n",
      "C:\\Users\\surya\\AppData\\Roaming\\Python\\Python311\\site-packages\\yfinance\\utils.py:788: FutureWarning: The 'unit' keyword in TimedeltaIndex construction is deprecated and will be removed in a future version. Use pd.to_timedelta instead.\n",
      "  df.index += _pd.TimedeltaIndex(dst_error_hours, 'h')\n"
     ]
    },
    {
     "name": "stdout",
     "output_type": "stream",
     "text": [
      "\n",
      "CVS\n",
      "[*********************100%%**********************]  1 of 1 completed"
     ]
    },
    {
     "name": "stderr",
     "output_type": "stream",
     "text": [
      "C:\\Users\\surya\\AppData\\Roaming\\Python\\Python311\\site-packages\\yfinance\\utils.py:788: FutureWarning: The 'unit' keyword in TimedeltaIndex construction is deprecated and will be removed in a future version. Use pd.to_timedelta instead.\n",
      "  df.index += _pd.TimedeltaIndex(dst_error_hours, 'h')\n"
     ]
    },
    {
     "name": "stdout",
     "output_type": "stream",
     "text": [
      "\n",
      "BABA\n",
      "[*********************100%%**********************]  1 of 1 completed\n",
      "IEUR\n",
      "[*********************100%%**********************]  1 of 1 completed"
     ]
    },
    {
     "name": "stderr",
     "output_type": "stream",
     "text": [
      "C:\\Users\\surya\\AppData\\Roaming\\Python\\Python311\\site-packages\\yfinance\\utils.py:788: FutureWarning: The 'unit' keyword in TimedeltaIndex construction is deprecated and will be removed in a future version. Use pd.to_timedelta instead.\n",
      "  df.index += _pd.TimedeltaIndex(dst_error_hours, 'h')\n",
      "C:\\Users\\surya\\AppData\\Roaming\\Python\\Python311\\site-packages\\yfinance\\utils.py:788: FutureWarning: The 'unit' keyword in TimedeltaIndex construction is deprecated and will be removed in a future version. Use pd.to_timedelta instead.\n",
      "  df.index += _pd.TimedeltaIndex(dst_error_hours, 'h')\n"
     ]
    },
    {
     "name": "stdout",
     "output_type": "stream",
     "text": [
      "\n",
      "ADANIENT.NS\n",
      "[*********************100%%**********************]  1 of 1 completed"
     ]
    },
    {
     "name": "stderr",
     "output_type": "stream",
     "text": [
      "C:\\Users\\surya\\AppData\\Roaming\\Python\\Python311\\site-packages\\yfinance\\utils.py:788: FutureWarning: The 'unit' keyword in TimedeltaIndex construction is deprecated and will be removed in a future version. Use pd.to_timedelta instead.\n",
      "  df.index += _pd.TimedeltaIndex(dst_error_hours, 'h')\n"
     ]
    },
    {
     "name": "stdout",
     "output_type": "stream",
     "text": [
      "\n",
      "HD\n",
      "[*********************100%%**********************]  1 of 1 completed"
     ]
    },
    {
     "name": "stderr",
     "output_type": "stream",
     "text": [
      "C:\\Users\\surya\\AppData\\Roaming\\Python\\Python311\\site-packages\\yfinance\\utils.py:788: FutureWarning: The 'unit' keyword in TimedeltaIndex construction is deprecated and will be removed in a future version. Use pd.to_timedelta instead.\n",
      "  df.index += _pd.TimedeltaIndex(dst_error_hours, 'h')\n",
      "C:\\Users\\surya\\AppData\\Roaming\\Python\\Python311\\site-packages\\yfinance\\utils.py:788: FutureWarning: The 'unit' keyword in TimedeltaIndex construction is deprecated and will be removed in a future version. Use pd.to_timedelta instead.\n",
      "  df.index += _pd.TimedeltaIndex(dst_error_hours, 'h')\n"
     ]
    },
    {
     "name": "stdout",
     "output_type": "stream",
     "text": [
      "\n",
      "ATZAF\n",
      "[*********************100%%**********************]  1 of 1 completed\n",
      "VZ\n",
      "[*********************100%%**********************]  1 of 1 completed"
     ]
    },
    {
     "name": "stderr",
     "output_type": "stream",
     "text": [
      "C:\\Users\\surya\\AppData\\Roaming\\Python\\Python311\\site-packages\\yfinance\\utils.py:788: FutureWarning: The 'unit' keyword in TimedeltaIndex construction is deprecated and will be removed in a future version. Use pd.to_timedelta instead.\n",
      "  df.index += _pd.TimedeltaIndex(dst_error_hours, 'h')\n"
     ]
    },
    {
     "name": "stdout",
     "output_type": "stream",
     "text": [
      "\n",
      "ASML\n",
      "[*********************100%%**********************]  1 of 1 completed"
     ]
    },
    {
     "name": "stderr",
     "output_type": "stream",
     "text": [
      "C:\\Users\\surya\\AppData\\Roaming\\Python\\Python311\\site-packages\\yfinance\\utils.py:788: FutureWarning: The 'unit' keyword in TimedeltaIndex construction is deprecated and will be removed in a future version. Use pd.to_timedelta instead.\n",
      "  df.index += _pd.TimedeltaIndex(dst_error_hours, 'h')\n"
     ]
    },
    {
     "name": "stdout",
     "output_type": "stream",
     "text": [
      "\n",
      "XLY\n",
      "[*********************100%%**********************]  1 of 1 completed"
     ]
    },
    {
     "name": "stderr",
     "output_type": "stream",
     "text": [
      "C:\\Users\\surya\\AppData\\Roaming\\Python\\Python311\\site-packages\\yfinance\\utils.py:788: FutureWarning: The 'unit' keyword in TimedeltaIndex construction is deprecated and will be removed in a future version. Use pd.to_timedelta instead.\n",
      "  df.index += _pd.TimedeltaIndex(dst_error_hours, 'h')\n"
     ]
    },
    {
     "name": "stdout",
     "output_type": "stream",
     "text": [
      "\n",
      "HSY\n",
      "[*********************100%%**********************]  1 of 1 completed"
     ]
    },
    {
     "name": "stderr",
     "output_type": "stream",
     "text": [
      "C:\\Users\\surya\\AppData\\Roaming\\Python\\Python311\\site-packages\\yfinance\\utils.py:788: FutureWarning: The 'unit' keyword in TimedeltaIndex construction is deprecated and will be removed in a future version. Use pd.to_timedelta instead.\n",
      "  df.index += _pd.TimedeltaIndex(dst_error_hours, 'h')\n",
      "C:\\Users\\surya\\AppData\\Roaming\\Python\\Python311\\site-packages\\yfinance\\utils.py:788: FutureWarning: The 'unit' keyword in TimedeltaIndex construction is deprecated and will be removed in a future version. Use pd.to_timedelta instead.\n",
      "  df.index += _pd.TimedeltaIndex(dst_error_hours, 'h')\n"
     ]
    },
    {
     "name": "stdout",
     "output_type": "stream",
     "text": [
      "\n",
      "FSR\n",
      "[*********************100%%**********************]  1 of 1 completed\n",
      "GIS\n",
      "[*********************100%%**********************]  1 of 1 completed"
     ]
    },
    {
     "name": "stderr",
     "output_type": "stream",
     "text": [
      "C:\\Users\\surya\\AppData\\Roaming\\Python\\Python311\\site-packages\\yfinance\\utils.py:788: FutureWarning: The 'unit' keyword in TimedeltaIndex construction is deprecated and will be removed in a future version. Use pd.to_timedelta instead.\n",
      "  df.index += _pd.TimedeltaIndex(dst_error_hours, 'h')\n"
     ]
    },
    {
     "name": "stdout",
     "output_type": "stream",
     "text": [
      "\n",
      "BROS\n",
      "[*********************100%%**********************]  1 of 1 completed"
     ]
    },
    {
     "name": "stderr",
     "output_type": "stream",
     "text": [
      "C:\\Users\\surya\\AppData\\Roaming\\Python\\Python311\\site-packages\\yfinance\\utils.py:788: FutureWarning: The 'unit' keyword in TimedeltaIndex construction is deprecated and will be removed in a future version. Use pd.to_timedelta instead.\n",
      "  df.index += _pd.TimedeltaIndex(dst_error_hours, 'h')\n"
     ]
    },
    {
     "name": "stdout",
     "output_type": "stream",
     "text": [
      "\n",
      "CSCO\n",
      "[*********************100%%**********************]  1 of 1 completed\n",
      "ASRT\n",
      "[*********************100%%**********************]  1 of 1 completed"
     ]
    },
    {
     "name": "stderr",
     "output_type": "stream",
     "text": [
      "C:\\Users\\surya\\AppData\\Roaming\\Python\\Python311\\site-packages\\yfinance\\utils.py:788: FutureWarning: The 'unit' keyword in TimedeltaIndex construction is deprecated and will be removed in a future version. Use pd.to_timedelta instead.\n",
      "  df.index += _pd.TimedeltaIndex(dst_error_hours, 'h')\n",
      "C:\\Users\\surya\\AppData\\Roaming\\Python\\Python311\\site-packages\\yfinance\\utils.py:788: FutureWarning: The 'unit' keyword in TimedeltaIndex construction is deprecated and will be removed in a future version. Use pd.to_timedelta instead.\n",
      "  df.index += _pd.TimedeltaIndex(dst_error_hours, 'h')\n"
     ]
    },
    {
     "name": "stdout",
     "output_type": "stream",
     "text": [
      "\n",
      "CIBR\n",
      "[*********************100%%**********************]  1 of 1 completed"
     ]
    },
    {
     "name": "stderr",
     "output_type": "stream",
     "text": [
      "C:\\Users\\surya\\AppData\\Roaming\\Python\\Python311\\site-packages\\yfinance\\utils.py:788: FutureWarning: The 'unit' keyword in TimedeltaIndex construction is deprecated and will be removed in a future version. Use pd.to_timedelta instead.\n",
      "  df.index += _pd.TimedeltaIndex(dst_error_hours, 'h')\n"
     ]
    },
    {
     "name": "stdout",
     "output_type": "stream",
     "text": [
      "\n",
      "CRM\n",
      "[*********************100%%**********************]  1 of 1 completed\n",
      "NUVA\n",
      "[*********************100%%**********************]  1 of 1 completed"
     ]
    },
    {
     "name": "stderr",
     "output_type": "stream",
     "text": [
      "C:\\Users\\surya\\AppData\\Roaming\\Python\\Python311\\site-packages\\yfinance\\utils.py:788: FutureWarning: The 'unit' keyword in TimedeltaIndex construction is deprecated and will be removed in a future version. Use pd.to_timedelta instead.\n",
      "  df.index += _pd.TimedeltaIndex(dst_error_hours, 'h')\n",
      "\n",
      "1 Failed download:\n",
      "['NUVA']: Exception('%ticker%: No timezone found, symbol may be delisted')\n"
     ]
    },
    {
     "name": "stdout",
     "output_type": "stream",
     "text": [
      "\n",
      "CFLT\n"
     ]
    },
    {
     "name": "stderr",
     "output_type": "stream",
     "text": [
      "C:\\Users\\surya\\AppData\\Roaming\\Python\\Python311\\site-packages\\yfinance\\utils.py:788: FutureWarning: The 'unit' keyword in TimedeltaIndex construction is deprecated and will be removed in a future version. Use pd.to_timedelta instead.\n",
      "  df.index += _pd.TimedeltaIndex(dst_error_hours, 'h')\n"
     ]
    },
    {
     "name": "stdout",
     "output_type": "stream",
     "text": [
      "[*********************100%%**********************]  1 of 1 completed\n",
      "CIEN\n",
      "[*********************100%%**********************]  1 of 1 completed\n",
      "TGLS\n",
      "[*********************100%%**********************]  1 of 1 completed"
     ]
    },
    {
     "name": "stderr",
     "output_type": "stream",
     "text": [
      "C:\\Users\\surya\\AppData\\Roaming\\Python\\Python311\\site-packages\\yfinance\\utils.py:788: FutureWarning: The 'unit' keyword in TimedeltaIndex construction is deprecated and will be removed in a future version. Use pd.to_timedelta instead.\n",
      "  df.index += _pd.TimedeltaIndex(dst_error_hours, 'h')\n",
      "C:\\Users\\surya\\AppData\\Roaming\\Python\\Python311\\site-packages\\yfinance\\utils.py:788: FutureWarning: The 'unit' keyword in TimedeltaIndex construction is deprecated and will be removed in a future version. Use pd.to_timedelta instead.\n",
      "  df.index += _pd.TimedeltaIndex(dst_error_hours, 'h')\n"
     ]
    },
    {
     "name": "stdout",
     "output_type": "stream",
     "text": [
      "\n",
      "CRWD\n",
      "[*********************100%%**********************]  1 of 1 completed"
     ]
    },
    {
     "name": "stderr",
     "output_type": "stream",
     "text": [
      "C:\\Users\\surya\\AppData\\Roaming\\Python\\Python311\\site-packages\\yfinance\\utils.py:788: FutureWarning: The 'unit' keyword in TimedeltaIndex construction is deprecated and will be removed in a future version. Use pd.to_timedelta instead.\n",
      "  df.index += _pd.TimedeltaIndex(dst_error_hours, 'h')\n",
      "C:\\Users\\surya\\AppData\\Roaming\\Python\\Python311\\site-packages\\yfinance\\utils.py:788: FutureWarning: The 'unit' keyword in TimedeltaIndex construction is deprecated and will be removed in a future version. Use pd.to_timedelta instead.\n",
      "  df.index += _pd.TimedeltaIndex(dst_error_hours, 'h')\n"
     ]
    },
    {
     "name": "stdout",
     "output_type": "stream",
     "text": [
      "\n",
      "BOOT\n",
      "[*********************100%%**********************]  1 of 1 completed\n",
      "ELF\n",
      "[*********************100%%**********************]  1 of 1 completed\n",
      "MANU\n",
      "[*********************100%%**********************]  1 of 1 completed"
     ]
    },
    {
     "name": "stderr",
     "output_type": "stream",
     "text": [
      "C:\\Users\\surya\\AppData\\Roaming\\Python\\Python311\\site-packages\\yfinance\\utils.py:788: FutureWarning: The 'unit' keyword in TimedeltaIndex construction is deprecated and will be removed in a future version. Use pd.to_timedelta instead.\n",
      "  df.index += _pd.TimedeltaIndex(dst_error_hours, 'h')\n",
      "C:\\Users\\surya\\AppData\\Roaming\\Python\\Python311\\site-packages\\yfinance\\utils.py:788: FutureWarning: The 'unit' keyword in TimedeltaIndex construction is deprecated and will be removed in a future version. Use pd.to_timedelta instead.\n",
      "  df.index += _pd.TimedeltaIndex(dst_error_hours, 'h')\n"
     ]
    },
    {
     "name": "stdout",
     "output_type": "stream",
     "text": [
      "\n",
      "LYV\n",
      "[*********************100%%**********************]  1 of 1 completed\n",
      "MDB\n"
     ]
    },
    {
     "name": "stderr",
     "output_type": "stream",
     "text": [
      "C:\\Users\\surya\\AppData\\Roaming\\Python\\Python311\\site-packages\\yfinance\\utils.py:788: FutureWarning: The 'unit' keyword in TimedeltaIndex construction is deprecated and will be removed in a future version. Use pd.to_timedelta instead.\n",
      "  df.index += _pd.TimedeltaIndex(dst_error_hours, 'h')\n"
     ]
    },
    {
     "name": "stdout",
     "output_type": "stream",
     "text": [
      "[*********************100%%**********************]  1 of 1 completed"
     ]
    },
    {
     "name": "stderr",
     "output_type": "stream",
     "text": [
      "C:\\Users\\surya\\AppData\\Roaming\\Python\\Python311\\site-packages\\yfinance\\utils.py:788: FutureWarning: The 'unit' keyword in TimedeltaIndex construction is deprecated and will be removed in a future version. Use pd.to_timedelta instead.\n",
      "  df.index += _pd.TimedeltaIndex(dst_error_hours, 'h')\n"
     ]
    },
    {
     "name": "stdout",
     "output_type": "stream",
     "text": [
      "\n",
      "NOMD\n",
      "[*********************100%%**********************]  1 of 1 completed"
     ]
    },
    {
     "name": "stderr",
     "output_type": "stream",
     "text": [
      "C:\\Users\\surya\\AppData\\Roaming\\Python\\Python311\\site-packages\\yfinance\\utils.py:788: FutureWarning: The 'unit' keyword in TimedeltaIndex construction is deprecated and will be removed in a future version. Use pd.to_timedelta instead.\n",
      "  df.index += _pd.TimedeltaIndex(dst_error_hours, 'h')\n"
     ]
    },
    {
     "name": "stdout",
     "output_type": "stream",
     "text": [
      "\n",
      "BIDU\n",
      "[*********************100%%**********************]  1 of 1 completed\n",
      "INMD\n",
      "[*********************100%%**********************]  1 of 1 completed"
     ]
    },
    {
     "name": "stderr",
     "output_type": "stream",
     "text": [
      "C:\\Users\\surya\\AppData\\Roaming\\Python\\Python311\\site-packages\\yfinance\\utils.py:788: FutureWarning: The 'unit' keyword in TimedeltaIndex construction is deprecated and will be removed in a future version. Use pd.to_timedelta instead.\n",
      "  df.index += _pd.TimedeltaIndex(dst_error_hours, 'h')\n",
      "C:\\Users\\surya\\AppData\\Roaming\\Python\\Python311\\site-packages\\yfinance\\utils.py:788: FutureWarning: The 'unit' keyword in TimedeltaIndex construction is deprecated and will be removed in a future version. Use pd.to_timedelta instead.\n",
      "  df.index += _pd.TimedeltaIndex(dst_error_hours, 'h')\n"
     ]
    },
    {
     "name": "stdout",
     "output_type": "stream",
     "text": [
      "\n",
      "OPRA\n",
      "[*********************100%%**********************]  1 of 1 completed"
     ]
    },
    {
     "name": "stderr",
     "output_type": "stream",
     "text": [
      "C:\\Users\\surya\\AppData\\Roaming\\Python\\Python311\\site-packages\\yfinance\\utils.py:788: FutureWarning: The 'unit' keyword in TimedeltaIndex construction is deprecated and will be removed in a future version. Use pd.to_timedelta instead.\n",
      "  df.index += _pd.TimedeltaIndex(dst_error_hours, 'h')\n"
     ]
    },
    {
     "name": "stdout",
     "output_type": "stream",
     "text": [
      "\n",
      "RACE\n",
      "[*********************100%%**********************]  1 of 1 completed"
     ]
    },
    {
     "name": "stderr",
     "output_type": "stream",
     "text": [
      "C:\\Users\\surya\\AppData\\Roaming\\Python\\Python311\\site-packages\\yfinance\\utils.py:788: FutureWarning: The 'unit' keyword in TimedeltaIndex construction is deprecated and will be removed in a future version. Use pd.to_timedelta instead.\n",
      "  df.index += _pd.TimedeltaIndex(dst_error_hours, 'h')\n"
     ]
    },
    {
     "name": "stdout",
     "output_type": "stream",
     "text": [
      "\n",
      "RBLX\n",
      "[*********************100%%**********************]  1 of 1 completed"
     ]
    },
    {
     "name": "stderr",
     "output_type": "stream",
     "text": [
      "C:\\Users\\surya\\AppData\\Roaming\\Python\\Python311\\site-packages\\yfinance\\utils.py:788: FutureWarning: The 'unit' keyword in TimedeltaIndex construction is deprecated and will be removed in a future version. Use pd.to_timedelta instead.\n",
      "  df.index += _pd.TimedeltaIndex(dst_error_hours, 'h')\n"
     ]
    },
    {
     "name": "stdout",
     "output_type": "stream",
     "text": [
      "\n",
      "PANW\n",
      "[*********************100%%**********************]  1 of 1 completed\n",
      "XFAB\n",
      "[*********************100%%**********************]  1 of 1 completed"
     ]
    },
    {
     "name": "stderr",
     "output_type": "stream",
     "text": [
      "C:\\Users\\surya\\AppData\\Roaming\\Python\\Python311\\site-packages\\yfinance\\utils.py:788: FutureWarning: The 'unit' keyword in TimedeltaIndex construction is deprecated and will be removed in a future version. Use pd.to_timedelta instead.\n",
      "  df.index += _pd.TimedeltaIndex(dst_error_hours, 'h')\n"
     ]
    },
    {
     "name": "stdout",
     "output_type": "stream",
     "text": [
      "\n"
     ]
    },
    {
     "name": "stderr",
     "output_type": "stream",
     "text": [
      "\n",
      "1 Failed download:\n",
      "['XFAB']: Exception('%ticker%: No timezone found, symbol may be delisted')\n"
     ]
    },
    {
     "name": "stdout",
     "output_type": "stream",
     "text": [
      "VRRM\n",
      "[*********************100%%**********************]  1 of 1 completed"
     ]
    },
    {
     "name": "stderr",
     "output_type": "stream",
     "text": [
      "C:\\Users\\surya\\AppData\\Roaming\\Python\\Python311\\site-packages\\yfinance\\utils.py:788: FutureWarning: The 'unit' keyword in TimedeltaIndex construction is deprecated and will be removed in a future version. Use pd.to_timedelta instead.\n",
      "  df.index += _pd.TimedeltaIndex(dst_error_hours, 'h')\n",
      "C:\\Users\\surya\\AppData\\Roaming\\Python\\Python311\\site-packages\\yfinance\\utils.py:788: FutureWarning: The 'unit' keyword in TimedeltaIndex construction is deprecated and will be removed in a future version. Use pd.to_timedelta instead.\n",
      "  df.index += _pd.TimedeltaIndex(dst_error_hours, 'h')\n"
     ]
    },
    {
     "name": "stdout",
     "output_type": "stream",
     "text": [
      "\n",
      "CPRI\n",
      "[*********************100%%**********************]  1 of 1 completed\n",
      "RH\n",
      "[*********************100%%**********************]  1 of 1 completed\n",
      "SI=F\n",
      "[*********************100%%**********************]  1 of 1 completed"
     ]
    },
    {
     "name": "stderr",
     "output_type": "stream",
     "text": [
      "C:\\Users\\surya\\AppData\\Roaming\\Python\\Python311\\site-packages\\yfinance\\utils.py:788: FutureWarning: The 'unit' keyword in TimedeltaIndex construction is deprecated and will be removed in a future version. Use pd.to_timedelta instead.\n",
      "  df.index += _pd.TimedeltaIndex(dst_error_hours, 'h')\n",
      "C:\\Users\\surya\\AppData\\Roaming\\Python\\Python311\\site-packages\\yfinance\\utils.py:788: FutureWarning: The 'unit' keyword in TimedeltaIndex construction is deprecated and will be removed in a future version. Use pd.to_timedelta instead.\n",
      "  df.index += _pd.TimedeltaIndex(dst_error_hours, 'h')\n"
     ]
    },
    {
     "name": "stdout",
     "output_type": "stream",
     "text": [
      "\n",
      "ZTS\n",
      "[*********************100%%**********************]  1 of 1 completed"
     ]
    },
    {
     "name": "stderr",
     "output_type": "stream",
     "text": [
      "C:\\Users\\surya\\AppData\\Roaming\\Python\\Python311\\site-packages\\yfinance\\utils.py:788: FutureWarning: The 'unit' keyword in TimedeltaIndex construction is deprecated and will be removed in a future version. Use pd.to_timedelta instead.\n",
      "  df.index += _pd.TimedeltaIndex(dst_error_hours, 'h')\n"
     ]
    },
    {
     "name": "stdout",
     "output_type": "stream",
     "text": [
      "\n",
      "FARO\n",
      "[*********************100%%**********************]  1 of 1 completed"
     ]
    },
    {
     "name": "stderr",
     "output_type": "stream",
     "text": [
      "C:\\Users\\surya\\AppData\\Roaming\\Python\\Python311\\site-packages\\yfinance\\utils.py:788: FutureWarning: The 'unit' keyword in TimedeltaIndex construction is deprecated and will be removed in a future version. Use pd.to_timedelta instead.\n",
      "  df.index += _pd.TimedeltaIndex(dst_error_hours, 'h')\n"
     ]
    },
    {
     "name": "stdout",
     "output_type": "stream",
     "text": [
      "\n",
      "DVN\n",
      "[*********************100%%**********************]  1 of 1 completed"
     ]
    },
    {
     "name": "stderr",
     "output_type": "stream",
     "text": [
      "C:\\Users\\surya\\AppData\\Roaming\\Python\\Python311\\site-packages\\yfinance\\utils.py:788: FutureWarning: The 'unit' keyword in TimedeltaIndex construction is deprecated and will be removed in a future version. Use pd.to_timedelta instead.\n",
      "  df.index += _pd.TimedeltaIndex(dst_error_hours, 'h')\n"
     ]
    },
    {
     "name": "stdout",
     "output_type": "stream",
     "text": [
      "\n",
      "MAR\n",
      "[*********************100%%**********************]  1 of 1 completed"
     ]
    },
    {
     "name": "stderr",
     "output_type": "stream",
     "text": [
      "C:\\Users\\surya\\AppData\\Roaming\\Python\\Python311\\site-packages\\yfinance\\utils.py:788: FutureWarning: The 'unit' keyword in TimedeltaIndex construction is deprecated and will be removed in a future version. Use pd.to_timedelta instead.\n",
      "  df.index += _pd.TimedeltaIndex(dst_error_hours, 'h')\n"
     ]
    },
    {
     "name": "stdout",
     "output_type": "stream",
     "text": [
      "\n",
      "CE\n",
      "[*********************100%%**********************]  1 of 1 completed\n",
      "ONON\n",
      "[*********************100%%**********************]  1 of 1 completed"
     ]
    },
    {
     "name": "stderr",
     "output_type": "stream",
     "text": [
      "C:\\Users\\surya\\AppData\\Roaming\\Python\\Python311\\site-packages\\yfinance\\utils.py:788: FutureWarning: The 'unit' keyword in TimedeltaIndex construction is deprecated and will be removed in a future version. Use pd.to_timedelta instead.\n",
      "  df.index += _pd.TimedeltaIndex(dst_error_hours, 'h')\n",
      "C:\\Users\\surya\\AppData\\Roaming\\Python\\Python311\\site-packages\\yfinance\\utils.py:788: FutureWarning: The 'unit' keyword in TimedeltaIndex construction is deprecated and will be removed in a future version. Use pd.to_timedelta instead.\n",
      "  df.index += _pd.TimedeltaIndex(dst_error_hours, 'h')\n"
     ]
    },
    {
     "name": "stdout",
     "output_type": "stream",
     "text": [
      "\n",
      "GOLF\n",
      "[*********************100%%**********************]  1 of 1 completed"
     ]
    },
    {
     "name": "stderr",
     "output_type": "stream",
     "text": [
      "C:\\Users\\surya\\AppData\\Roaming\\Python\\Python311\\site-packages\\yfinance\\utils.py:788: FutureWarning: The 'unit' keyword in TimedeltaIndex construction is deprecated and will be removed in a future version. Use pd.to_timedelta instead.\n",
      "  df.index += _pd.TimedeltaIndex(dst_error_hours, 'h')\n"
     ]
    },
    {
     "name": "stdout",
     "output_type": "stream",
     "text": [
      "\n",
      "EA\n",
      "[*********************100%%**********************]  1 of 1 completed"
     ]
    },
    {
     "name": "stderr",
     "output_type": "stream",
     "text": [
      "C:\\Users\\surya\\AppData\\Roaming\\Python\\Python311\\site-packages\\yfinance\\utils.py:788: FutureWarning: The 'unit' keyword in TimedeltaIndex construction is deprecated and will be removed in a future version. Use pd.to_timedelta instead.\n",
      "  df.index += _pd.TimedeltaIndex(dst_error_hours, 'h')\n"
     ]
    },
    {
     "name": "stdout",
     "output_type": "stream",
     "text": [
      "\n",
      "HCP\n",
      "[*********************100%%**********************]  1 of 1 completed"
     ]
    },
    {
     "name": "stderr",
     "output_type": "stream",
     "text": [
      "C:\\Users\\surya\\AppData\\Roaming\\Python\\Python311\\site-packages\\yfinance\\utils.py:788: FutureWarning: The 'unit' keyword in TimedeltaIndex construction is deprecated and will be removed in a future version. Use pd.to_timedelta instead.\n",
      "  df.index += _pd.TimedeltaIndex(dst_error_hours, 'h')\n"
     ]
    },
    {
     "name": "stdout",
     "output_type": "stream",
     "text": [
      "\n",
      "XOM\n",
      "[*********************100%%**********************]  1 of 1 completed"
     ]
    },
    {
     "name": "stderr",
     "output_type": "stream",
     "text": [
      "C:\\Users\\surya\\AppData\\Roaming\\Python\\Python311\\site-packages\\yfinance\\utils.py:788: FutureWarning: The 'unit' keyword in TimedeltaIndex construction is deprecated and will be removed in a future version. Use pd.to_timedelta instead.\n",
      "  df.index += _pd.TimedeltaIndex(dst_error_hours, 'h')\n"
     ]
    },
    {
     "name": "stdout",
     "output_type": "stream",
     "text": [
      "\n",
      "CRK\n",
      "[*********************100%%**********************]  1 of 1 completed\n",
      "FFZ3\n",
      "[*********************100%%**********************]  1 of 1 completed"
     ]
    },
    {
     "name": "stderr",
     "output_type": "stream",
     "text": [
      "C:\\Users\\surya\\AppData\\Roaming\\Python\\Python311\\site-packages\\yfinance\\utils.py:788: FutureWarning: The 'unit' keyword in TimedeltaIndex construction is deprecated and will be removed in a future version. Use pd.to_timedelta instead.\n",
      "  df.index += _pd.TimedeltaIndex(dst_error_hours, 'h')\n",
      "\n",
      "1 Failed download:\n",
      "['FFZ3']: Exception('%ticker%: No timezone found, symbol may be delisted')\n"
     ]
    },
    {
     "name": "stdout",
     "output_type": "stream",
     "text": [
      "\n",
      "FERG\n",
      "[*********************100%%**********************]  1 of 1 completed"
     ]
    },
    {
     "name": "stderr",
     "output_type": "stream",
     "text": [
      "C:\\Users\\surya\\AppData\\Roaming\\Python\\Python311\\site-packages\\yfinance\\utils.py:788: FutureWarning: The 'unit' keyword in TimedeltaIndex construction is deprecated and will be removed in a future version. Use pd.to_timedelta instead.\n",
      "  df.index += _pd.TimedeltaIndex(dst_error_hours, 'h')\n"
     ]
    },
    {
     "name": "stdout",
     "output_type": "stream",
     "text": [
      "\n",
      "CMBX\n",
      "[*********************100%%**********************]  1 of 1 completed"
     ]
    },
    {
     "name": "stderr",
     "output_type": "stream",
     "text": [
      "\n",
      "1 Failed download:\n",
      "['CMBX']: Exception('%ticker%: No price data found, symbol may be delisted (1d 2022-01-01 -> 2024-02-10)')\n"
     ]
    },
    {
     "name": "stdout",
     "output_type": "stream",
     "text": [
      "\n",
      "DME\n",
      "[*********************100%%**********************]  1 of 1 completed"
     ]
    },
    {
     "name": "stderr",
     "output_type": "stream",
     "text": [
      "\n",
      "1 Failed download:\n",
      "['DME']: Exception('%ticker%: No price data found, symbol may be delisted (1d 2022-01-01 -> 2024-02-10)')\n"
     ]
    },
    {
     "name": "stdout",
     "output_type": "stream",
     "text": [
      "\n",
      "DE\n",
      "[*********************100%%**********************]  1 of 1 completed\n",
      "TSMC\n",
      "[*********************100%%**********************]  1 of 1 completed"
     ]
    },
    {
     "name": "stderr",
     "output_type": "stream",
     "text": [
      "C:\\Users\\surya\\AppData\\Roaming\\Python\\Python311\\site-packages\\yfinance\\utils.py:788: FutureWarning: The 'unit' keyword in TimedeltaIndex construction is deprecated and will be removed in a future version. Use pd.to_timedelta instead.\n",
      "  df.index += _pd.TimedeltaIndex(dst_error_hours, 'h')\n",
      "\n",
      "1 Failed download:\n",
      "['TSMC']: Exception('%ticker%: No timezone found, symbol may be delisted')\n"
     ]
    },
    {
     "name": "stdout",
     "output_type": "stream",
     "text": [
      "\n",
      "WFC\n",
      "[*********************100%%**********************]  1 of 1 completed\n",
      "LSPN\n",
      "[*********************100%%**********************]  1 of 1 completed"
     ]
    },
    {
     "name": "stderr",
     "output_type": "stream",
     "text": [
      "C:\\Users\\surya\\AppData\\Roaming\\Python\\Python311\\site-packages\\yfinance\\utils.py:788: FutureWarning: The 'unit' keyword in TimedeltaIndex construction is deprecated and will be removed in a future version. Use pd.to_timedelta instead.\n",
      "  df.index += _pd.TimedeltaIndex(dst_error_hours, 'h')\n",
      "\n",
      "1 Failed download:\n",
      "['LSPN']: Exception('%ticker%: No price data found, symbol may be delisted (1d 2022-01-01 -> 2024-02-10)')\n"
     ]
    },
    {
     "name": "stdout",
     "output_type": "stream",
     "text": [
      "\n",
      "ADSK\n"
     ]
    },
    {
     "name": "stderr",
     "output_type": "stream",
     "text": [
      "C:\\Users\\surya\\AppData\\Roaming\\Python\\Python311\\site-packages\\yfinance\\utils.py:788: FutureWarning: The 'unit' keyword in TimedeltaIndex construction is deprecated and will be removed in a future version. Use pd.to_timedelta instead.\n",
      "  df.index += _pd.TimedeltaIndex(dst_error_hours, 'h')\n"
     ]
    },
    {
     "name": "stdout",
     "output_type": "stream",
     "text": [
      "[*********************100%%**********************]  1 of 1 completed\n",
      "ICE:DXY\n",
      "[*********************100%%**********************]  1 of 1 completed"
     ]
    },
    {
     "name": "stderr",
     "output_type": "stream",
     "text": [
      "\n",
      "1 Failed download:\n",
      "['ICE:DXY']: Exception('%ticker%: No timezone found, symbol may be delisted')\n"
     ]
    },
    {
     "name": "stdout",
     "output_type": "stream",
     "text": [
      "\n",
      "SHOP\n",
      "[*********************100%%**********************]  1 of 1 completed"
     ]
    },
    {
     "name": "stderr",
     "output_type": "stream",
     "text": [
      "C:\\Users\\surya\\AppData\\Roaming\\Python\\Python311\\site-packages\\yfinance\\utils.py:788: FutureWarning: The 'unit' keyword in TimedeltaIndex construction is deprecated and will be removed in a future version. Use pd.to_timedelta instead.\n",
      "  df.index += _pd.TimedeltaIndex(dst_error_hours, 'h')\n",
      "C:\\Users\\surya\\AppData\\Roaming\\Python\\Python311\\site-packages\\yfinance\\utils.py:788: FutureWarning: The 'unit' keyword in TimedeltaIndex construction is deprecated and will be removed in a future version. Use pd.to_timedelta instead.\n",
      "  df.index += _pd.TimedeltaIndex(dst_error_hours, 'h')\n"
     ]
    },
    {
     "name": "stdout",
     "output_type": "stream",
     "text": [
      "\n",
      "MU\n",
      "[*********************100%%**********************]  1 of 1 completed\n",
      "TPC\n",
      "[*********************100%%**********************]  1 of 1 completed"
     ]
    },
    {
     "name": "stderr",
     "output_type": "stream",
     "text": [
      "C:\\Users\\surya\\AppData\\Roaming\\Python\\Python311\\site-packages\\yfinance\\utils.py:788: FutureWarning: The 'unit' keyword in TimedeltaIndex construction is deprecated and will be removed in a future version. Use pd.to_timedelta instead.\n",
      "  df.index += _pd.TimedeltaIndex(dst_error_hours, 'h')\n"
     ]
    },
    {
     "name": "stdout",
     "output_type": "stream",
     "text": [
      "\n",
      "LUV\n",
      "[*********************100%%**********************]  1 of 1 completed\n",
      "TSLA\n",
      "[*********************100%%**********************]  1 of 1 completed"
     ]
    },
    {
     "name": "stderr",
     "output_type": "stream",
     "text": [
      "C:\\Users\\surya\\AppData\\Roaming\\Python\\Python311\\site-packages\\yfinance\\utils.py:788: FutureWarning: The 'unit' keyword in TimedeltaIndex construction is deprecated and will be removed in a future version. Use pd.to_timedelta instead.\n",
      "  df.index += _pd.TimedeltaIndex(dst_error_hours, 'h')\n",
      "C:\\Users\\surya\\AppData\\Roaming\\Python\\Python311\\site-packages\\yfinance\\utils.py:788: FutureWarning: The 'unit' keyword in TimedeltaIndex construction is deprecated and will be removed in a future version. Use pd.to_timedelta instead.\n",
      "  df.index += _pd.TimedeltaIndex(dst_error_hours, 'h')\n"
     ]
    },
    {
     "name": "stdout",
     "output_type": "stream",
     "text": [
      "\n",
      "WTI\n",
      "[*********************100%%**********************]  1 of 1 completed"
     ]
    },
    {
     "name": "stderr",
     "output_type": "stream",
     "text": [
      "C:\\Users\\surya\\AppData\\Roaming\\Python\\Python311\\site-packages\\yfinance\\utils.py:788: FutureWarning: The 'unit' keyword in TimedeltaIndex construction is deprecated and will be removed in a future version. Use pd.to_timedelta instead.\n",
      "  df.index += _pd.TimedeltaIndex(dst_error_hours, 'h')\n",
      "C:\\Users\\surya\\AppData\\Roaming\\Python\\Python311\\site-packages\\yfinance\\utils.py:788: FutureWarning: The 'unit' keyword in TimedeltaIndex construction is deprecated and will be removed in a future version. Use pd.to_timedelta instead.\n",
      "  df.index += _pd.TimedeltaIndex(dst_error_hours, 'h')\n"
     ]
    },
    {
     "name": "stdout",
     "output_type": "stream",
     "text": [
      "\n",
      "VLD\n",
      "[*********************100%%**********************]  1 of 1 completed\n",
      "U\n",
      "[*********************100%%**********************]  1 of 1 completed"
     ]
    },
    {
     "name": "stderr",
     "output_type": "stream",
     "text": [
      "C:\\Users\\surya\\AppData\\Roaming\\Python\\Python311\\site-packages\\yfinance\\utils.py:788: FutureWarning: The 'unit' keyword in TimedeltaIndex construction is deprecated and will be removed in a future version. Use pd.to_timedelta instead.\n",
      "  df.index += _pd.TimedeltaIndex(dst_error_hours, 'h')\n"
     ]
    },
    {
     "name": "stdout",
     "output_type": "stream",
     "text": [
      "\n",
      "CC\n",
      "[*********************100%%**********************]  1 of 1 completed"
     ]
    },
    {
     "name": "stderr",
     "output_type": "stream",
     "text": [
      "C:\\Users\\surya\\AppData\\Roaming\\Python\\Python311\\site-packages\\yfinance\\utils.py:788: FutureWarning: The 'unit' keyword in TimedeltaIndex construction is deprecated and will be removed in a future version. Use pd.to_timedelta instead.\n",
      "  df.index += _pd.TimedeltaIndex(dst_error_hours, 'h')\n"
     ]
    },
    {
     "name": "stdout",
     "output_type": "stream",
     "text": [
      "\n",
      "AMZN\n",
      "[*********************100%%**********************]  1 of 1 completed"
     ]
    },
    {
     "name": "stderr",
     "output_type": "stream",
     "text": [
      "C:\\Users\\surya\\AppData\\Roaming\\Python\\Python311\\site-packages\\yfinance\\utils.py:788: FutureWarning: The 'unit' keyword in TimedeltaIndex construction is deprecated and will be removed in a future version. Use pd.to_timedelta instead.\n",
      "  df.index += _pd.TimedeltaIndex(dst_error_hours, 'h')\n"
     ]
    },
    {
     "name": "stdout",
     "output_type": "stream",
     "text": [
      "\n",
      "ETSY\n",
      "[*********************100%%**********************]  1 of 1 completed"
     ]
    },
    {
     "name": "stderr",
     "output_type": "stream",
     "text": [
      "C:\\Users\\surya\\AppData\\Roaming\\Python\\Python311\\site-packages\\yfinance\\utils.py:788: FutureWarning: The 'unit' keyword in TimedeltaIndex construction is deprecated and will be removed in a future version. Use pd.to_timedelta instead.\n",
      "  df.index += _pd.TimedeltaIndex(dst_error_hours, 'h')\n"
     ]
    },
    {
     "name": "stdout",
     "output_type": "stream",
     "text": [
      "\n",
      "CROX\n",
      "[*********************100%%**********************]  1 of 1 completed\n",
      "ALGN\n",
      "[*********************100%%**********************]  1 of 1 completed"
     ]
    },
    {
     "name": "stderr",
     "output_type": "stream",
     "text": [
      "C:\\Users\\surya\\AppData\\Roaming\\Python\\Python311\\site-packages\\yfinance\\utils.py:788: FutureWarning: The 'unit' keyword in TimedeltaIndex construction is deprecated and will be removed in a future version. Use pd.to_timedelta instead.\n",
      "  df.index += _pd.TimedeltaIndex(dst_error_hours, 'h')\n",
      "C:\\Users\\surya\\AppData\\Roaming\\Python\\Python311\\site-packages\\yfinance\\utils.py:788: FutureWarning: The 'unit' keyword in TimedeltaIndex construction is deprecated and will be removed in a future version. Use pd.to_timedelta instead.\n",
      "  df.index += _pd.TimedeltaIndex(dst_error_hours, 'h')\n"
     ]
    },
    {
     "name": "stdout",
     "output_type": "stream",
     "text": [
      "\n",
      "PLTR\n",
      "[*********************100%%**********************]  1 of 1 completed"
     ]
    },
    {
     "name": "stderr",
     "output_type": "stream",
     "text": [
      "C:\\Users\\surya\\AppData\\Roaming\\Python\\Python311\\site-packages\\yfinance\\utils.py:788: FutureWarning: The 'unit' keyword in TimedeltaIndex construction is deprecated and will be removed in a future version. Use pd.to_timedelta instead.\n",
      "  df.index += _pd.TimedeltaIndex(dst_error_hours, 'h')\n"
     ]
    },
    {
     "name": "stdout",
     "output_type": "stream",
     "text": [
      "\n",
      "NOC\n",
      "[*********************100%%**********************]  1 of 1 completed"
     ]
    },
    {
     "name": "stderr",
     "output_type": "stream",
     "text": [
      "C:\\Users\\surya\\AppData\\Roaming\\Python\\Python311\\site-packages\\yfinance\\utils.py:788: FutureWarning: The 'unit' keyword in TimedeltaIndex construction is deprecated and will be removed in a future version. Use pd.to_timedelta instead.\n",
      "  df.index += _pd.TimedeltaIndex(dst_error_hours, 'h')\n"
     ]
    },
    {
     "name": "stdout",
     "output_type": "stream",
     "text": [
      "\n",
      "TSN\n",
      "[*********************100%%**********************]  1 of 1 completed\n",
      "MRNA\n",
      "[*********************100%%**********************]  1 of 1 completed"
     ]
    },
    {
     "name": "stderr",
     "output_type": "stream",
     "text": [
      "C:\\Users\\surya\\AppData\\Roaming\\Python\\Python311\\site-packages\\yfinance\\utils.py:788: FutureWarning: The 'unit' keyword in TimedeltaIndex construction is deprecated and will be removed in a future version. Use pd.to_timedelta instead.\n",
      "  df.index += _pd.TimedeltaIndex(dst_error_hours, 'h')\n",
      "C:\\Users\\surya\\AppData\\Roaming\\Python\\Python311\\site-packages\\yfinance\\utils.py:788: FutureWarning: The 'unit' keyword in TimedeltaIndex construction is deprecated and will be removed in a future version. Use pd.to_timedelta instead.\n",
      "  df.index += _pd.TimedeltaIndex(dst_error_hours, 'h')\n"
     ]
    },
    {
     "name": "stdout",
     "output_type": "stream",
     "text": [
      "\n",
      "HPE\n",
      "[*********************100%%**********************]  1 of 1 completed"
     ]
    },
    {
     "name": "stderr",
     "output_type": "stream",
     "text": [
      "C:\\Users\\surya\\AppData\\Roaming\\Python\\Python311\\site-packages\\yfinance\\utils.py:788: FutureWarning: The 'unit' keyword in TimedeltaIndex construction is deprecated and will be removed in a future version. Use pd.to_timedelta instead.\n",
      "  df.index += _pd.TimedeltaIndex(dst_error_hours, 'h')\n"
     ]
    },
    {
     "name": "stdout",
     "output_type": "stream",
     "text": [
      "\n",
      "SYM\n",
      "[*********************100%%**********************]  1 of 1 completed"
     ]
    },
    {
     "name": "stderr",
     "output_type": "stream",
     "text": [
      "C:\\Users\\surya\\AppData\\Roaming\\Python\\Python311\\site-packages\\yfinance\\utils.py:788: FutureWarning: The 'unit' keyword in TimedeltaIndex construction is deprecated and will be removed in a future version. Use pd.to_timedelta instead.\n",
      "  df.index += _pd.TimedeltaIndex(dst_error_hours, 'h')\n"
     ]
    },
    {
     "name": "stdout",
     "output_type": "stream",
     "text": [
      "\n",
      "ALB\n",
      "[*********************100%%**********************]  1 of 1 completed"
     ]
    },
    {
     "name": "stderr",
     "output_type": "stream",
     "text": [
      "C:\\Users\\surya\\AppData\\Roaming\\Python\\Python311\\site-packages\\yfinance\\utils.py:788: FutureWarning: The 'unit' keyword in TimedeltaIndex construction is deprecated and will be removed in a future version. Use pd.to_timedelta instead.\n",
      "  df.index += _pd.TimedeltaIndex(dst_error_hours, 'h')\n",
      "C:\\Users\\surya\\AppData\\Roaming\\Python\\Python311\\site-packages\\yfinance\\utils.py:788: FutureWarning: The 'unit' keyword in TimedeltaIndex construction is deprecated and will be removed in a future version. Use pd.to_timedelta instead.\n",
      "  df.index += _pd.TimedeltaIndex(dst_error_hours, 'h')\n"
     ]
    },
    {
     "name": "stdout",
     "output_type": "stream",
     "text": [
      "\n",
      "UAA\n",
      "[*********************100%%**********************]  1 of 1 completed\n",
      "BTC\n",
      "[*********************100%%**********************]  1 of 1 completed\n",
      "PRM\n",
      "[*********************100%%**********************]  1 of 1 completed"
     ]
    },
    {
     "name": "stderr",
     "output_type": "stream",
     "text": [
      "C:\\Users\\surya\\AppData\\Roaming\\Python\\Python311\\site-packages\\yfinance\\utils.py:788: FutureWarning: The 'unit' keyword in TimedeltaIndex construction is deprecated and will be removed in a future version. Use pd.to_timedelta instead.\n",
      "  df.index += _pd.TimedeltaIndex(dst_error_hours, 'h')\n",
      "C:\\Users\\surya\\AppData\\Roaming\\Python\\Python311\\site-packages\\yfinance\\utils.py:788: FutureWarning: The 'unit' keyword in TimedeltaIndex construction is deprecated and will be removed in a future version. Use pd.to_timedelta instead.\n",
      "  df.index += _pd.TimedeltaIndex(dst_error_hours, 'h')\n"
     ]
    },
    {
     "name": "stdout",
     "output_type": "stream",
     "text": [
      "\n",
      "WOLF\n",
      "[*********************100%%**********************]  1 of 1 completed"
     ]
    },
    {
     "name": "stderr",
     "output_type": "stream",
     "text": [
      "C:\\Users\\surya\\AppData\\Roaming\\Python\\Python311\\site-packages\\yfinance\\utils.py:788: FutureWarning: The 'unit' keyword in TimedeltaIndex construction is deprecated and will be removed in a future version. Use pd.to_timedelta instead.\n",
      "  df.index += _pd.TimedeltaIndex(dst_error_hours, 'h')\n"
     ]
    },
    {
     "name": "stdout",
     "output_type": "stream",
     "text": [
      "\n",
      "COUR\n",
      "[*********************100%%**********************]  1 of 1 completed\n",
      "GLD\n",
      "[*********************100%%**********************]  1 of 1 completed"
     ]
    },
    {
     "name": "stderr",
     "output_type": "stream",
     "text": [
      "C:\\Users\\surya\\AppData\\Roaming\\Python\\Python311\\site-packages\\yfinance\\utils.py:788: FutureWarning: The 'unit' keyword in TimedeltaIndex construction is deprecated and will be removed in a future version. Use pd.to_timedelta instead.\n",
      "  df.index += _pd.TimedeltaIndex(dst_error_hours, 'h')\n",
      "C:\\Users\\surya\\AppData\\Roaming\\Python\\Python311\\site-packages\\yfinance\\utils.py:788: FutureWarning: The 'unit' keyword in TimedeltaIndex construction is deprecated and will be removed in a future version. Use pd.to_timedelta instead.\n",
      "  df.index += _pd.TimedeltaIndex(dst_error_hours, 'h')\n"
     ]
    },
    {
     "name": "stdout",
     "output_type": "stream",
     "text": [
      "\n",
      "SRS\n",
      "[*********************100%%**********************]  1 of 1 completed"
     ]
    },
    {
     "name": "stderr",
     "output_type": "stream",
     "text": [
      "C:\\Users\\surya\\AppData\\Roaming\\Python\\Python311\\site-packages\\yfinance\\utils.py:788: FutureWarning: The 'unit' keyword in TimedeltaIndex construction is deprecated and will be removed in a future version. Use pd.to_timedelta instead.\n",
      "  df.index += _pd.TimedeltaIndex(dst_error_hours, 'h')\n"
     ]
    },
    {
     "name": "stdout",
     "output_type": "stream",
     "text": [
      "\n",
      "LMT\n",
      "[*********************100%%**********************]  1 of 1 completed"
     ]
    },
    {
     "name": "stderr",
     "output_type": "stream",
     "text": [
      "C:\\Users\\surya\\AppData\\Roaming\\Python\\Python311\\site-packages\\yfinance\\utils.py:788: FutureWarning: The 'unit' keyword in TimedeltaIndex construction is deprecated and will be removed in a future version. Use pd.to_timedelta instead.\n",
      "  df.index += _pd.TimedeltaIndex(dst_error_hours, 'h')\n"
     ]
    },
    {
     "name": "stdout",
     "output_type": "stream",
     "text": [
      "\n",
      "SNY\n",
      "[*********************100%%**********************]  1 of 1 completed"
     ]
    },
    {
     "name": "stderr",
     "output_type": "stream",
     "text": [
      "C:\\Users\\surya\\AppData\\Roaming\\Python\\Python311\\site-packages\\yfinance\\utils.py:788: FutureWarning: The 'unit' keyword in TimedeltaIndex construction is deprecated and will be removed in a future version. Use pd.to_timedelta instead.\n",
      "  df.index += _pd.TimedeltaIndex(dst_error_hours, 'h')\n"
     ]
    },
    {
     "name": "stdout",
     "output_type": "stream",
     "text": [
      "\n",
      "KR\n",
      "[*********************100%%**********************]  1 of 1 completed\n"
     ]
    },
    {
     "name": "stderr",
     "output_type": "stream",
     "text": [
      "C:\\Users\\surya\\AppData\\Roaming\\Python\\Python311\\site-packages\\yfinance\\utils.py:788: FutureWarning: The 'unit' keyword in TimedeltaIndex construction is deprecated and will be removed in a future version. Use pd.to_timedelta instead.\n",
      "  df.index += _pd.TimedeltaIndex(dst_error_hours, 'h')\n"
     ]
    }
   ],
   "source": [
    "stock_history = {}\n",
    "\n",
    "start_date = '2022-01-01'\n",
    "end_date = '2024-02-10'\n",
    "\n",
    "for symbol in unique_symbols:\n",
    "    print(symbol)\n",
    "    stock = yf.download(symbol, start=start_date, end=end_date)\n",
    "\n",
    "    if len(stock > 0):\n",
    "        stock.index = stock.index.date\n",
    "        stock_history[symbol] = stock\n"
   ]
  },
  {
   "cell_type": "code",
   "execution_count": 65,
   "metadata": {},
   "outputs": [
    {
     "data": {
      "text/html": [
       "<div>\n",
       "<style scoped>\n",
       "    .dataframe tbody tr th:only-of-type {\n",
       "        vertical-align: middle;\n",
       "    }\n",
       "\n",
       "    .dataframe tbody tr th {\n",
       "        vertical-align: top;\n",
       "    }\n",
       "\n",
       "    .dataframe thead th {\n",
       "        text-align: right;\n",
       "    }\n",
       "</style>\n",
       "<table border=\"1\" class=\"dataframe\">\n",
       "  <thead>\n",
       "    <tr style=\"text-align: right;\">\n",
       "      <th></th>\n",
       "      <th>Open</th>\n",
       "      <th>High</th>\n",
       "      <th>Low</th>\n",
       "      <th>Close</th>\n",
       "      <th>Adj Close</th>\n",
       "      <th>Volume</th>\n",
       "    </tr>\n",
       "  </thead>\n",
       "  <tbody>\n",
       "    <tr>\n",
       "      <th>2022-01-03</th>\n",
       "      <td>177.830002</td>\n",
       "      <td>182.880005</td>\n",
       "      <td>177.710007</td>\n",
       "      <td>182.009995</td>\n",
       "      <td>179.724579</td>\n",
       "      <td>104487900</td>\n",
       "    </tr>\n",
       "    <tr>\n",
       "      <th>2022-01-04</th>\n",
       "      <td>182.630005</td>\n",
       "      <td>182.940002</td>\n",
       "      <td>179.119995</td>\n",
       "      <td>179.699997</td>\n",
       "      <td>177.443542</td>\n",
       "      <td>99310400</td>\n",
       "    </tr>\n",
       "    <tr>\n",
       "      <th>2022-01-05</th>\n",
       "      <td>179.610001</td>\n",
       "      <td>180.169998</td>\n",
       "      <td>174.639999</td>\n",
       "      <td>174.919998</td>\n",
       "      <td>172.723602</td>\n",
       "      <td>94537600</td>\n",
       "    </tr>\n",
       "    <tr>\n",
       "      <th>2022-01-06</th>\n",
       "      <td>172.699997</td>\n",
       "      <td>175.300003</td>\n",
       "      <td>171.639999</td>\n",
       "      <td>172.000000</td>\n",
       "      <td>169.840240</td>\n",
       "      <td>96904000</td>\n",
       "    </tr>\n",
       "    <tr>\n",
       "      <th>2022-01-07</th>\n",
       "      <td>172.889999</td>\n",
       "      <td>174.139999</td>\n",
       "      <td>171.029999</td>\n",
       "      <td>172.169998</td>\n",
       "      <td>170.008102</td>\n",
       "      <td>86709100</td>\n",
       "    </tr>\n",
       "    <tr>\n",
       "      <th>...</th>\n",
       "      <td>...</td>\n",
       "      <td>...</td>\n",
       "      <td>...</td>\n",
       "      <td>...</td>\n",
       "      <td>...</td>\n",
       "      <td>...</td>\n",
       "    </tr>\n",
       "    <tr>\n",
       "      <th>2024-02-05</th>\n",
       "      <td>188.149994</td>\n",
       "      <td>189.250000</td>\n",
       "      <td>185.839996</td>\n",
       "      <td>187.679993</td>\n",
       "      <td>187.440811</td>\n",
       "      <td>69668800</td>\n",
       "    </tr>\n",
       "    <tr>\n",
       "      <th>2024-02-06</th>\n",
       "      <td>186.860001</td>\n",
       "      <td>189.309998</td>\n",
       "      <td>186.770004</td>\n",
       "      <td>189.300003</td>\n",
       "      <td>189.058762</td>\n",
       "      <td>43490800</td>\n",
       "    </tr>\n",
       "    <tr>\n",
       "      <th>2024-02-07</th>\n",
       "      <td>190.639999</td>\n",
       "      <td>191.050003</td>\n",
       "      <td>188.610001</td>\n",
       "      <td>189.410004</td>\n",
       "      <td>189.168625</td>\n",
       "      <td>53439000</td>\n",
       "    </tr>\n",
       "    <tr>\n",
       "      <th>2024-02-08</th>\n",
       "      <td>189.389999</td>\n",
       "      <td>189.539993</td>\n",
       "      <td>187.350006</td>\n",
       "      <td>188.320007</td>\n",
       "      <td>188.080017</td>\n",
       "      <td>40962000</td>\n",
       "    </tr>\n",
       "    <tr>\n",
       "      <th>2024-02-09</th>\n",
       "      <td>188.649994</td>\n",
       "      <td>189.990005</td>\n",
       "      <td>188.000000</td>\n",
       "      <td>188.850006</td>\n",
       "      <td>188.850006</td>\n",
       "      <td>45099900</td>\n",
       "    </tr>\n",
       "  </tbody>\n",
       "</table>\n",
       "<p>529 rows × 6 columns</p>\n",
       "</div>"
      ],
      "text/plain": [
       "                  Open        High         Low       Close   Adj Close  \\\n",
       "2022-01-03  177.830002  182.880005  177.710007  182.009995  179.724579   \n",
       "2022-01-04  182.630005  182.940002  179.119995  179.699997  177.443542   \n",
       "2022-01-05  179.610001  180.169998  174.639999  174.919998  172.723602   \n",
       "2022-01-06  172.699997  175.300003  171.639999  172.000000  169.840240   \n",
       "2022-01-07  172.889999  174.139999  171.029999  172.169998  170.008102   \n",
       "...                ...         ...         ...         ...         ...   \n",
       "2024-02-05  188.149994  189.250000  185.839996  187.679993  187.440811   \n",
       "2024-02-06  186.860001  189.309998  186.770004  189.300003  189.058762   \n",
       "2024-02-07  190.639999  191.050003  188.610001  189.410004  189.168625   \n",
       "2024-02-08  189.389999  189.539993  187.350006  188.320007  188.080017   \n",
       "2024-02-09  188.649994  189.990005  188.000000  188.850006  188.850006   \n",
       "\n",
       "               Volume  \n",
       "2022-01-03  104487900  \n",
       "2022-01-04   99310400  \n",
       "2022-01-05   94537600  \n",
       "2022-01-06   96904000  \n",
       "2022-01-07   86709100  \n",
       "...               ...  \n",
       "2024-02-05   69668800  \n",
       "2024-02-06   43490800  \n",
       "2024-02-07   53439000  \n",
       "2024-02-08   40962000  \n",
       "2024-02-09   45099900  \n",
       "\n",
       "[529 rows x 6 columns]"
      ]
     },
     "execution_count": 65,
     "metadata": {},
     "output_type": "execute_result"
    }
   ],
   "source": [
    "stock_history['AAPL']"
   ]
  },
  {
   "cell_type": "code",
   "execution_count": 66,
   "metadata": {},
   "outputs": [
    {
     "data": {
      "text/plain": [
       "datetime.date"
      ]
     },
     "execution_count": 66,
     "metadata": {},
     "output_type": "execute_result"
    }
   ],
   "source": [
    "spy_data = pd.read_csv(\"SPY.csv\")\n",
    "spy_data['Date'] = pd.to_datetime(spy_data['Date'])\n",
    "spy_data['Date'] = spy_data['Date'].dt.date\n",
    "\n",
    "\n",
    "type(spy_data['Date'][0])\n",
    "# spy_data"
   ]
  },
  {
   "cell_type": "code",
   "execution_count": 67,
   "metadata": {},
   "outputs": [],
   "source": [
    "df = df[df['Ticker (Equities/ETFs only)'].isin(stock_history.keys())]\n",
    "\n",
    "entry_prices = []\n",
    "exit_prices = []\n",
    "spy_entry_prices = []\n",
    "spy_exit_prices = []\n",
    "\n",
    "for index, row in df.iterrows():\n",
    "    ticker = row['Ticker (Equities/ETFs only)']\n",
    "    entry_date = row['Entry Date'].date()\n",
    "    exit_date = row['Exit Date'].date()\n",
    "\n",
    "    ticker_history = stock_history[ticker]\n",
    "\n",
    "    entry_prices.append(ticker_history.at[entry_date, 'Adj Close'])\n",
    "    exit_prices.append(ticker_history.at[exit_date, 'Adj Close'])\n",
    "\n",
    "    spy_entry_prices.append(spy_data.loc[spy_data['Date'] == entry_date]['Adj Close'].iloc[0])\n",
    "    spy_exit_prices.append(spy_data.loc[spy_data['Date'] == exit_date]['Adj Close'].iloc[0])\n",
    "\n",
    "df['entry_price'] = entry_prices\n",
    "df['exit_price'] = exit_prices\n",
    "df['spy_entry_price'] = spy_entry_prices\n",
    "df['spy_exit_price'] = spy_exit_prices\n"
   ]
  },
  {
   "cell_type": "code",
   "execution_count": 68,
   "metadata": {},
   "outputs": [],
   "source": [
    "df['pnl'] = (df['exit_price'] - df['entry_price']) * (100 / df['entry_price']) * (df['Position (Long = 1, Short = -1)'])\n",
    "df['spy_pnl'] = (df['spy_exit_price'] - df['spy_entry_price']) * (100 / df['spy_entry_price']) * (df['Position (Long = 1, Short = -1)'])\n",
    "df['duration'] = (df['Exit Date'] - df['Entry Date']).dt.days\n",
    "\n",
    "df['annualized_pnl'] = df['pnl'] * (365/df['duration'])\n",
    "df['annualized_spy_pnl'] = df['spy_pnl'] * (365/df['duration'])"
   ]
  },
  {
   "cell_type": "code",
   "execution_count": 69,
   "metadata": {},
   "outputs": [
    {
     "name": "stdout",
     "output_type": "stream",
     "text": [
      "9.78821039381154\n",
      "9.632832773787516\n",
      "8.078241797028735\n",
      "22.585989659717292\n"
     ]
    }
   ],
   "source": [
    "print(df['annualized_pnl'].mean())\n",
    "print(df['annualized_spy_pnl'].mean())\n",
    "\n",
    "print(df['annualized_pnl'].median())\n",
    "print(df['annualized_spy_pnl'].median())"
   ]
  },
  {
   "cell_type": "code",
   "execution_count": 70,
   "metadata": {},
   "outputs": [
    {
     "data": {
      "text/plain": [
       "128"
      ]
     },
     "execution_count": 70,
     "metadata": {},
     "output_type": "execute_result"
    }
   ],
   "source": [
    "len(df)"
   ]
  },
  {
   "cell_type": "code",
   "execution_count": 71,
   "metadata": {},
   "outputs": [
    {
     "name": "stdout",
     "output_type": "stream",
     "text": [
      "1304.373424709644\n",
      "1459.7730721238613\n",
      "34.014757647992006\n",
      "31.297060091401338\n",
      "15.368391498947044\n",
      "28.42910139907237\n"
     ]
    },
    {
     "data": {
      "text/plain": [
       "[<matplotlib.lines.Line2D at 0x1f2478e4950>]"
      ]
     },
     "execution_count": 71,
     "metadata": {},
     "output_type": "execute_result"
    },
    {
     "data": {
      "image/png": "[encoded data removed]",
      "text/plain": [
       "<Figure size 640x480 with 1 Axes>"
      ]
     },
     "metadata": {},
     "output_type": "display_data"
    }
   ],
   "source": [
    "long_df = df[df['Position (Long = 1, Short = -1)'] == 1]\n",
    "long_total_pnl = long_df['pnl'].sum()\n",
    "print(long_total_pnl)\n",
    "long_total_spy_pnl = long_df['spy_pnl'].sum()\n",
    "print(long_total_spy_pnl)\n",
    "\n",
    "print(long_df['annualized_pnl'].mean())\n",
    "print(long_df['annualized_spy_pnl'].mean())\n",
    "\n",
    "print(long_df['annualized_pnl'].median())\n",
    "print(long_df['annualized_spy_pnl'].median())\n",
    "\n",
    "plt.plot(list(long_df['pnl']), np.zeros_like(list(long_df['pnl'])), 'x') \n",
    "\n",
    "# type(long_df['pnl'])"
   ]
  },
  {
   "cell_type": "code",
   "execution_count": 72,
   "metadata": {},
   "outputs": [
    {
     "name": "stdout",
     "output_type": "stream",
     "text": [
      "-145.73585335592347\n",
      "-395.7047273928675\n",
      "-1706.392984967427\n",
      "-1489.8416329071138\n",
      "-8.93045458811311\n",
      "-29.379237243299045\n"
     ]
    },
    {
     "data": {
      "text/plain": [
       "[<matplotlib.lines.Line2D at 0x1f24c8cba90>]"
      ]
     },
     "execution_count": 72,
     "metadata": {},
     "output_type": "execute_result"
    },
    {
     "data": {
      "image/png": "[encoded data removed]",
      "text/plain": [
       "<Figure size 640x480 with 1 Axes>"
      ]
     },
     "metadata": {},
     "output_type": "display_data"
    }
   ],
   "source": [
    "short_df = df[df['Position (Long = 1, Short = -1)'] == -1]\n",
    "short_total_pnl = short_df['pnl'].sum()\n",
    "print(short_total_pnl)\n",
    "short_total_spy_pnl = short_df['spy_pnl'].sum()\n",
    "print(short_total_spy_pnl)\n",
    "\n",
    "\n",
    "print(short_df['annualized_pnl'].sum())\n",
    "print(short_df['annualized_spy_pnl'].sum())\n",
    "\n",
    "print(short_df['annualized_pnl'].median())\n",
    "print(short_df['annualized_spy_pnl'].median())\n",
    "\n",
    "plt.plot(list(short_df['pnl']), np.zeros_like(list(short_df['pnl'])), 'x') \n",
    "\n",
    "# type(long_df['pnl'])"
   ]
  },
  {
   "cell_type": "code",
   "execution_count": 73,
   "metadata": {},
   "outputs": [
    {
     "data": {
      "text/plain": [
       "41"
      ]
     },
     "execution_count": 73,
     "metadata": {},
     "output_type": "execute_result"
    }
   ],
   "source": [
    "len(short_df)"
   ]
  },
  {
   "cell_type": "code",
   "execution_count": 74,
   "metadata": {},
   "outputs": [
    {
     "name": "stdout",
     "output_type": "stream",
     "text": [
      "1158.637571353721\n",
      "1064.0683447309939\n"
     ]
    }
   ],
   "source": [
    "total_pnl = df['pnl'].sum()\n",
    "print(total_pnl)\n",
    "total_spy_pnl = df['spy_pnl'].sum()\n",
    "print(total_spy_pnl)"
   ]
  },
  {
   "cell_type": "code",
   "execution_count": 87,
   "metadata": {},
   "outputs": [
    {
     "name": "stdout",
     "output_type": "stream",
     "text": [
      "outperformed\n",
      "False    49\n",
      "True     38\n",
      "Name: count, dtype: int64\n",
      "outperformed\n",
      "False    33\n",
      "True      8\n",
      "Name: count, dtype: int64\n"
     ]
    },
    {
     "data": {
      "text/html": [
       "<div>\n",
       "<style scoped>\n",
       "    .dataframe tbody tr th:only-of-type {\n",
       "        vertical-align: middle;\n",
       "    }\n",
       "\n",
       "    .dataframe tbody tr th {\n",
       "        vertical-align: top;\n",
       "    }\n",
       "\n",
       "    .dataframe thead th {\n",
       "        text-align: right;\n",
       "    }\n",
       "</style>\n",
       "<table border=\"1\" class=\"dataframe\">\n",
       "  <thead>\n",
       "    <tr style=\"text-align: right;\">\n",
       "      <th></th>\n",
       "      <th>Ticker (Equities/ETFs only)</th>\n",
       "      <th>Position (Long = 1, Short = -1)</th>\n",
       "      <th>Entry Date</th>\n",
       "      <th>Exit Date</th>\n",
       "      <th>Negative Alumni Response (No response/not negative = 0, Negative = 1)</th>\n",
       "      <th>entry_price</th>\n",
       "      <th>exit_price</th>\n",
       "      <th>spy_entry_price</th>\n",
       "      <th>spy_exit_price</th>\n",
       "      <th>pnl</th>\n",
       "      <th>spy_pnl</th>\n",
       "      <th>duration</th>\n",
       "      <th>annualized_pnl</th>\n",
       "      <th>annualized_spy_pnl</th>\n",
       "      <th>stock_growth</th>\n",
       "      <th>spy_growth</th>\n",
       "      <th>outperformed</th>\n",
       "    </tr>\n",
       "  </thead>\n",
       "  <tbody>\n",
       "    <tr>\n",
       "      <th>0</th>\n",
       "      <td>SIX</td>\n",
       "      <td>-1</td>\n",
       "      <td>2022-11-07</td>\n",
       "      <td>2023-04-06</td>\n",
       "      <td>0</td>\n",
       "      <td>21.160000</td>\n",
       "      <td>25.420000</td>\n",
       "      <td>372.550964</td>\n",
       "      <td>404.602264</td>\n",
       "      <td>-20.132326</td>\n",
       "      <td>-8.603199</td>\n",
       "      <td>150</td>\n",
       "      <td>-48.988661</td>\n",
       "      <td>-20.934450</td>\n",
       "      <td>-20.132326</td>\n",
       "      <td>8.603199</td>\n",
       "      <td>False</td>\n",
       "    </tr>\n",
       "    <tr>\n",
       "      <th>1</th>\n",
       "      <td>DISH</td>\n",
       "      <td>-1</td>\n",
       "      <td>2022-11-07</td>\n",
       "      <td>2023-11-06</td>\n",
       "      <td>0</td>\n",
       "      <td>14.670000</td>\n",
       "      <td>3.435000</td>\n",
       "      <td>372.550964</td>\n",
       "      <td>433.930664</td>\n",
       "      <td>76.584868</td>\n",
       "      <td>-16.475518</td>\n",
       "      <td>364</td>\n",
       "      <td>76.795266</td>\n",
       "      <td>-16.520780</td>\n",
       "      <td>76.584868</td>\n",
       "      <td>16.475518</td>\n",
       "      <td>True</td>\n",
       "    </tr>\n",
       "    <tr>\n",
       "      <th>2</th>\n",
       "      <td>PLNT</td>\n",
       "      <td>1</td>\n",
       "      <td>2022-11-08</td>\n",
       "      <td>2023-05-08</td>\n",
       "      <td>0</td>\n",
       "      <td>66.919998</td>\n",
       "      <td>72.019997</td>\n",
       "      <td>374.561066</td>\n",
       "      <td>408.112457</td>\n",
       "      <td>7.621038</td>\n",
       "      <td>8.957522</td>\n",
       "      <td>181</td>\n",
       "      <td>15.368391</td>\n",
       "      <td>18.063512</td>\n",
       "      <td>7.621038</td>\n",
       "      <td>8.957522</td>\n",
       "      <td>False</td>\n",
       "    </tr>\n",
       "    <tr>\n",
       "      <th>3</th>\n",
       "      <td>MMM</td>\n",
       "      <td>-1</td>\n",
       "      <td>2022-11-08</td>\n",
       "      <td>2023-01-09</td>\n",
       "      <td>0</td>\n",
       "      <td>116.835915</td>\n",
       "      <td>119.561882</td>\n",
       "      <td>374.561066</td>\n",
       "      <td>382.053284</td>\n",
       "      <td>-2.333159</td>\n",
       "      <td>-2.000266</td>\n",
       "      <td>62</td>\n",
       "      <td>-13.735532</td>\n",
       "      <td>-11.775760</td>\n",
       "      <td>-2.333159</td>\n",
       "      <td>2.000266</td>\n",
       "      <td>False</td>\n",
       "    </tr>\n",
       "    <tr>\n",
       "      <th>4</th>\n",
       "      <td>NFLX</td>\n",
       "      <td>-1</td>\n",
       "      <td>2022-11-09</td>\n",
       "      <td>2023-05-09</td>\n",
       "      <td>1</td>\n",
       "      <td>254.660004</td>\n",
       "      <td>332.140015</td>\n",
       "      <td>366.844330</td>\n",
       "      <td>406.322754</td>\n",
       "      <td>-30.424884</td>\n",
       "      <td>-10.761629</td>\n",
       "      <td>181</td>\n",
       "      <td>-61.354048</td>\n",
       "      <td>-21.701627</td>\n",
       "      <td>-30.424884</td>\n",
       "      <td>10.761629</td>\n",
       "      <td>False</td>\n",
       "    </tr>\n",
       "    <tr>\n",
       "      <th>...</th>\n",
       "      <td>...</td>\n",
       "      <td>...</td>\n",
       "      <td>...</td>\n",
       "      <td>...</td>\n",
       "      <td>...</td>\n",
       "      <td>...</td>\n",
       "      <td>...</td>\n",
       "      <td>...</td>\n",
       "      <td>...</td>\n",
       "      <td>...</td>\n",
       "      <td>...</td>\n",
       "      <td>...</td>\n",
       "      <td>...</td>\n",
       "      <td>...</td>\n",
       "      <td>...</td>\n",
       "      <td>...</td>\n",
       "      <td>...</td>\n",
       "    </tr>\n",
       "    <tr>\n",
       "      <th>185</th>\n",
       "      <td>LMT</td>\n",
       "      <td>-1</td>\n",
       "      <td>2023-11-06</td>\n",
       "      <td>2024-02-05</td>\n",
       "      <td>0</td>\n",
       "      <td>447.966492</td>\n",
       "      <td>421.700012</td>\n",
       "      <td>433.930664</td>\n",
       "      <td>492.549988</td>\n",
       "      <td>5.863492</td>\n",
       "      <td>-13.508915</td>\n",
       "      <td>91</td>\n",
       "      <td>23.518402</td>\n",
       "      <td>-54.184109</td>\n",
       "      <td>5.863492</td>\n",
       "      <td>13.508915</td>\n",
       "      <td>False</td>\n",
       "    </tr>\n",
       "    <tr>\n",
       "      <th>186</th>\n",
       "      <td>SNY</td>\n",
       "      <td>1</td>\n",
       "      <td>2023-11-06</td>\n",
       "      <td>2024-01-04</td>\n",
       "      <td>0</td>\n",
       "      <td>45.240002</td>\n",
       "      <td>51.009998</td>\n",
       "      <td>433.930664</td>\n",
       "      <td>467.279999</td>\n",
       "      <td>12.754192</td>\n",
       "      <td>7.685406</td>\n",
       "      <td>59</td>\n",
       "      <td>78.903052</td>\n",
       "      <td>47.545311</td>\n",
       "      <td>12.754192</td>\n",
       "      <td>7.685406</td>\n",
       "      <td>True</td>\n",
       "    </tr>\n",
       "    <tr>\n",
       "      <th>188</th>\n",
       "      <td>KR</td>\n",
       "      <td>-1</td>\n",
       "      <td>2023-11-06</td>\n",
       "      <td>2024-02-06</td>\n",
       "      <td>0</td>\n",
       "      <td>44.863567</td>\n",
       "      <td>44.990002</td>\n",
       "      <td>433.930664</td>\n",
       "      <td>493.980011</td>\n",
       "      <td>-0.281820</td>\n",
       "      <td>-13.838466</td>\n",
       "      <td>92</td>\n",
       "      <td>-1.118089</td>\n",
       "      <td>-54.902609</td>\n",
       "      <td>-0.281820</td>\n",
       "      <td>13.838466</td>\n",
       "      <td>False</td>\n",
       "    </tr>\n",
       "    <tr>\n",
       "      <th>192</th>\n",
       "      <td>SBUX</td>\n",
       "      <td>-1</td>\n",
       "      <td>2023-11-13</td>\n",
       "      <td>2023-12-26</td>\n",
       "      <td>0</td>\n",
       "      <td>102.890961</td>\n",
       "      <td>95.097847</td>\n",
       "      <td>438.412506</td>\n",
       "      <td>475.649994</td>\n",
       "      <td>7.574148</td>\n",
       "      <td>-8.493710</td>\n",
       "      <td>43</td>\n",
       "      <td>64.292187</td>\n",
       "      <td>-72.097773</td>\n",
       "      <td>7.574148</td>\n",
       "      <td>8.493710</td>\n",
       "      <td>False</td>\n",
       "    </tr>\n",
       "    <tr>\n",
       "      <th>194</th>\n",
       "      <td>XOM</td>\n",
       "      <td>1</td>\n",
       "      <td>2023-11-14</td>\n",
       "      <td>2023-11-28</td>\n",
       "      <td>0</td>\n",
       "      <td>104.290001</td>\n",
       "      <td>103.900002</td>\n",
       "      <td>446.918030</td>\n",
       "      <td>453.092957</td>\n",
       "      <td>-0.373957</td>\n",
       "      <td>1.381669</td>\n",
       "      <td>14</td>\n",
       "      <td>-9.749584</td>\n",
       "      <td>36.022080</td>\n",
       "      <td>-0.373957</td>\n",
       "      <td>1.381669</td>\n",
       "      <td>False</td>\n",
       "    </tr>\n",
       "  </tbody>\n",
       "</table>\n",
       "<p>128 rows × 17 columns</p>\n",
       "</div>"
      ],
      "text/plain": [
       "    Ticker (Equities/ETFs only)  Position (Long = 1, Short = -1) Entry Date  \\\n",
       "0                           SIX                               -1 2022-11-07   \n",
       "1                          DISH                               -1 2022-11-07   \n",
       "2                          PLNT                                1 2022-11-08   \n",
       "3                           MMM                               -1 2022-11-08   \n",
       "4                          NFLX                               -1 2022-11-09   \n",
       "..                          ...                              ...        ...   \n",
       "185                         LMT                               -1 2023-11-06   \n",
       "186                         SNY                                1 2023-11-06   \n",
       "188                          KR                               -1 2023-11-06   \n",
       "192                        SBUX                               -1 2023-11-13   \n",
       "194                         XOM                                1 2023-11-14   \n",
       "\n",
       "     Exit Date  \\\n",
       "0   2023-04-06   \n",
       "1   2023-11-06   \n",
       "2   2023-05-08   \n",
       "3   2023-01-09   \n",
       "4   2023-05-09   \n",
       "..         ...   \n",
       "185 2024-02-05   \n",
       "186 2024-01-04   \n",
       "188 2024-02-06   \n",
       "192 2023-12-26   \n",
       "194 2023-11-28   \n",
       "\n",
       "     Negative Alumni Response (No response/not negative = 0, Negative = 1)  \\\n",
       "0                                                    0                       \n",
       "1                                                    0                       \n",
       "2                                                    0                       \n",
       "3                                                    0                       \n",
       "4                                                    1                       \n",
       "..                                                 ...                       \n",
       "185                                                  0                       \n",
       "186                                                  0                       \n",
       "188                                                  0                       \n",
       "192                                                  0                       \n",
       "194                                                  0                       \n",
       "\n",
       "     entry_price  exit_price  spy_entry_price  spy_exit_price        pnl  \\\n",
       "0      21.160000   25.420000       372.550964      404.602264 -20.132326   \n",
       "1      14.670000    3.435000       372.550964      433.930664  76.584868   \n",
       "2      66.919998   72.019997       374.561066      408.112457   7.621038   \n",
       "3     116.835915  119.561882       374.561066      382.053284  -2.333159   \n",
       "4     254.660004  332.140015       366.844330      406.322754 -30.424884   \n",
       "..           ...         ...              ...             ...        ...   \n",
       "185   447.966492  421.700012       433.930664      492.549988   5.863492   \n",
       "186    45.240002   51.009998       433.930664      467.279999  12.754192   \n",
       "188    44.863567   44.990002       433.930664      493.980011  -0.281820   \n",
       "192   102.890961   95.097847       438.412506      475.649994   7.574148   \n",
       "194   104.290001  103.900002       446.918030      453.092957  -0.373957   \n",
       "\n",
       "       spy_pnl  duration  annualized_pnl  annualized_spy_pnl  stock_growth  \\\n",
       "0    -8.603199       150      -48.988661          -20.934450    -20.132326   \n",
       "1   -16.475518       364       76.795266          -16.520780     76.584868   \n",
       "2     8.957522       181       15.368391           18.063512      7.621038   \n",
       "3    -2.000266        62      -13.735532          -11.775760     -2.333159   \n",
       "4   -10.761629       181      -61.354048          -21.701627    -30.424884   \n",
       "..         ...       ...             ...                 ...           ...   \n",
       "185 -13.508915        91       23.518402          -54.184109      5.863492   \n",
       "186   7.685406        59       78.903052           47.545311     12.754192   \n",
       "188 -13.838466        92       -1.118089          -54.902609     -0.281820   \n",
       "192  -8.493710        43       64.292187          -72.097773      7.574148   \n",
       "194   1.381669        14       -9.749584           36.022080     -0.373957   \n",
       "\n",
       "     spy_growth  outperformed  \n",
       "0      8.603199         False  \n",
       "1     16.475518          True  \n",
       "2      8.957522         False  \n",
       "3      2.000266         False  \n",
       "4     10.761629         False  \n",
       "..          ...           ...  \n",
       "185   13.508915         False  \n",
       "186    7.685406          True  \n",
       "188   13.838466         False  \n",
       "192    8.493710         False  \n",
       "194    1.381669         False  \n",
       "\n",
       "[128 rows x 17 columns]"
      ]
     },
     "execution_count": 87,
     "metadata": {},
     "output_type": "execute_result"
    }
   ],
   "source": [
    "df['stock_growth'] = (df['Position (Long = 1, Short = -1)']) * ((df['exit_price'] - df['entry_price']) / df['entry_price']) * 100\n",
    "df['spy_growth'] = ((df['spy_exit_price'] - df['spy_entry_price']) / df['spy_entry_price']) * 100\n",
    "df['outperformed'] = df['stock_growth'] > df['spy_growth']\n",
    "\n",
    "# df[df['Position (Long = 1, Short = -1)'] == 1]['stock_growth']\n",
    "# calculate number of times WIW outperforms SPY on long positions\n",
    "outperformed_long_counts = df[df['Position (Long = 1, Short = -1)'] == 1]['outperformed'].value_counts()\n",
    "outperformed_short_counts = df[df['Position (Long = 1, Short = -1)'] == -1]['outperformed'].value_counts()\n",
    "\n",
    "print(outperformed_long_counts)\n",
    "print(outperformed_short_counts)\n",
    "# colors = ['tomato', 'palegreen']\n",
    "# labels = ['False', 'True']\n",
    "\n",
    "# plt.pie(outperformed_counts, labels=labels, colors=colors, autopct='%1.1f%%')\n",
    "# plt.title('WIW outperforms SPY')\n",
    "\n",
    "# print\n",
    "# plt.show()\n"
   ]
  },
  {
   "cell_type": "code",
   "execution_count": 56,
   "metadata": {},
   "outputs": [
    {
     "data": {
      "text/html": [
       "<div>\n",
       "<style scoped>\n",
       "    .dataframe tbody tr th:only-of-type {\n",
       "        vertical-align: middle;\n",
       "    }\n",
       "\n",
       "    .dataframe tbody tr th {\n",
       "        vertical-align: top;\n",
       "    }\n",
       "\n",
       "    .dataframe thead th {\n",
       "        text-align: right;\n",
       "    }\n",
       "</style>\n",
       "<table border=\"1\" class=\"dataframe\">\n",
       "  <thead>\n",
       "    <tr style=\"text-align: right;\">\n",
       "      <th></th>\n",
       "      <th>Ticker (Equities/ETFs only)</th>\n",
       "      <th>Position (Long = 1, Short = -1)</th>\n",
       "      <th>Entry Date</th>\n",
       "      <th>Exit Date</th>\n",
       "      <th>Negative Alumni Response (No response/not negative = 0, Negative = 1)</th>\n",
       "      <th>entry_price</th>\n",
       "      <th>exit_price</th>\n",
       "      <th>spy_entry_price</th>\n",
       "      <th>spy_exit_price</th>\n",
       "      <th>pnl</th>\n",
       "      <th>spy_pnl</th>\n",
       "      <th>duration</th>\n",
       "      <th>annualized_pnl</th>\n",
       "      <th>annualized_spy_pnl</th>\n",
       "      <th>stock_growth</th>\n",
       "      <th>spy_growth</th>\n",
       "      <th>outperformed</th>\n",
       "      <th>annualized_pnl_difference</th>\n",
       "    </tr>\n",
       "  </thead>\n",
       "  <tbody>\n",
       "    <tr>\n",
       "      <th>4</th>\n",
       "      <td>NFLX</td>\n",
       "      <td>-1</td>\n",
       "      <td>2022-11-09</td>\n",
       "      <td>2023-05-09</td>\n",
       "      <td>1</td>\n",
       "      <td>254.660004</td>\n",
       "      <td>332.140015</td>\n",
       "      <td>366.844330</td>\n",
       "      <td>406.322754</td>\n",
       "      <td>-30.424884</td>\n",
       "      <td>-10.761629</td>\n",
       "      <td>181</td>\n",
       "      <td>-61.354048</td>\n",
       "      <td>-21.701627</td>\n",
       "      <td>-30.424884</td>\n",
       "      <td>10.761629</td>\n",
       "      <td>False</td>\n",
       "      <td>-39.652422</td>\n",
       "    </tr>\n",
       "    <tr>\n",
       "      <th>8</th>\n",
       "      <td>ORLY</td>\n",
       "      <td>1</td>\n",
       "      <td>2022-11-14</td>\n",
       "      <td>2023-11-13</td>\n",
       "      <td>1</td>\n",
       "      <td>824.919983</td>\n",
       "      <td>995.919983</td>\n",
       "      <td>387.425537</td>\n",
       "      <td>438.412506</td>\n",
       "      <td>20.729283</td>\n",
       "      <td>13.160456</td>\n",
       "      <td>364</td>\n",
       "      <td>20.786232</td>\n",
       "      <td>13.196612</td>\n",
       "      <td>20.729283</td>\n",
       "      <td>13.160456</td>\n",
       "      <td>True</td>\n",
       "      <td>7.589620</td>\n",
       "    </tr>\n",
       "    <tr>\n",
       "      <th>27</th>\n",
       "      <td>GOOGL</td>\n",
       "      <td>1</td>\n",
       "      <td>2023-02-16</td>\n",
       "      <td>2023-08-16</td>\n",
       "      <td>1</td>\n",
       "      <td>95.510002</td>\n",
       "      <td>128.699997</td>\n",
       "      <td>402.167572</td>\n",
       "      <td>436.325684</td>\n",
       "      <td>34.750282</td>\n",
       "      <td>8.493502</td>\n",
       "      <td>181</td>\n",
       "      <td>70.076535</td>\n",
       "      <td>17.127781</td>\n",
       "      <td>34.750282</td>\n",
       "      <td>8.493502</td>\n",
       "      <td>True</td>\n",
       "      <td>52.948754</td>\n",
       "    </tr>\n",
       "    <tr>\n",
       "      <th>51</th>\n",
       "      <td>HSY</td>\n",
       "      <td>1</td>\n",
       "      <td>2023-02-27</td>\n",
       "      <td>2023-09-27</td>\n",
       "      <td>1</td>\n",
       "      <td>235.556000</td>\n",
       "      <td>201.326340</td>\n",
       "      <td>391.775543</td>\n",
       "      <td>424.329590</td>\n",
       "      <td>-14.531432</td>\n",
       "      <td>8.309362</td>\n",
       "      <td>212</td>\n",
       "      <td>-25.018739</td>\n",
       "      <td>14.306212</td>\n",
       "      <td>-14.531432</td>\n",
       "      <td>8.309362</td>\n",
       "      <td>False</td>\n",
       "      <td>-39.324952</td>\n",
       "    </tr>\n",
       "    <tr>\n",
       "      <th>52</th>\n",
       "      <td>FSR</td>\n",
       "      <td>1</td>\n",
       "      <td>2023-02-27</td>\n",
       "      <td>2024-02-09</td>\n",
       "      <td>1</td>\n",
       "      <td>7.400000</td>\n",
       "      <td>0.780000</td>\n",
       "      <td>391.775543</td>\n",
       "      <td>501.200012</td>\n",
       "      <td>-89.459460</td>\n",
       "      <td>27.930398</td>\n",
       "      <td>347</td>\n",
       "      <td>-94.100008</td>\n",
       "      <td>29.379237</td>\n",
       "      <td>-89.459460</td>\n",
       "      <td>27.930398</td>\n",
       "      <td>False</td>\n",
       "      <td>-123.479246</td>\n",
       "    </tr>\n",
       "    <tr>\n",
       "      <th>56</th>\n",
       "      <td>ASRT</td>\n",
       "      <td>1</td>\n",
       "      <td>2023-03-01</td>\n",
       "      <td>2024-02-09</td>\n",
       "      <td>1</td>\n",
       "      <td>5.970000</td>\n",
       "      <td>0.800000</td>\n",
       "      <td>388.830292</td>\n",
       "      <td>501.200012</td>\n",
       "      <td>-86.599664</td>\n",
       "      <td>28.899425</td>\n",
       "      <td>345</td>\n",
       "      <td>-91.619935</td>\n",
       "      <td>30.574754</td>\n",
       "      <td>-86.599664</td>\n",
       "      <td>28.899425</td>\n",
       "      <td>False</td>\n",
       "      <td>-122.194689</td>\n",
       "    </tr>\n",
       "    <tr>\n",
       "      <th>66</th>\n",
       "      <td>CRWD</td>\n",
       "      <td>1</td>\n",
       "      <td>2023-03-07</td>\n",
       "      <td>2024-02-09</td>\n",
       "      <td>1</td>\n",
       "      <td>124.930000</td>\n",
       "      <td>329.339996</td>\n",
       "      <td>392.307465</td>\n",
       "      <td>501.200012</td>\n",
       "      <td>163.619623</td>\n",
       "      <td>27.756940</td>\n",
       "      <td>339</td>\n",
       "      <td>176.168621</td>\n",
       "      <td>29.885791</td>\n",
       "      <td>163.619623</td>\n",
       "      <td>27.756940</td>\n",
       "      <td>True</td>\n",
       "      <td>146.282830</td>\n",
       "    </tr>\n",
       "    <tr>\n",
       "      <th>127</th>\n",
       "      <td>TSLA</td>\n",
       "      <td>1</td>\n",
       "      <td>2023-09-25</td>\n",
       "      <td>2024-02-09</td>\n",
       "      <td>1</td>\n",
       "      <td>246.990005</td>\n",
       "      <td>193.570007</td>\n",
       "      <td>430.484650</td>\n",
       "      <td>501.200012</td>\n",
       "      <td>-21.628405</td>\n",
       "      <td>16.426918</td>\n",
       "      <td>137</td>\n",
       "      <td>-57.623122</td>\n",
       "      <td>43.765147</td>\n",
       "      <td>-21.628405</td>\n",
       "      <td>16.426918</td>\n",
       "      <td>False</td>\n",
       "      <td>-101.388270</td>\n",
       "    </tr>\n",
       "  </tbody>\n",
       "</table>\n",
       "</div>"
      ],
      "text/plain": [
       "    Ticker (Equities/ETFs only)  Position (Long = 1, Short = -1) Entry Date  \\\n",
       "4                          NFLX                               -1 2022-11-09   \n",
       "8                          ORLY                                1 2022-11-14   \n",
       "27                        GOOGL                                1 2023-02-16   \n",
       "51                          HSY                                1 2023-02-27   \n",
       "52                          FSR                                1 2023-02-27   \n",
       "56                         ASRT                                1 2023-03-01   \n",
       "66                         CRWD                                1 2023-03-07   \n",
       "127                        TSLA                                1 2023-09-25   \n",
       "\n",
       "     Exit Date  \\\n",
       "4   2023-05-09   \n",
       "8   2023-11-13   \n",
       "27  2023-08-16   \n",
       "51  2023-09-27   \n",
       "52  2024-02-09   \n",
       "56  2024-02-09   \n",
       "66  2024-02-09   \n",
       "127 2024-02-09   \n",
       "\n",
       "     Negative Alumni Response (No response/not negative = 0, Negative = 1)  \\\n",
       "4                                                    1                       \n",
       "8                                                    1                       \n",
       "27                                                   1                       \n",
       "51                                                   1                       \n",
       "52                                                   1                       \n",
       "56                                                   1                       \n",
       "66                                                   1                       \n",
       "127                                                  1                       \n",
       "\n",
       "     entry_price  exit_price  spy_entry_price  spy_exit_price         pnl  \\\n",
       "4     254.660004  332.140015       366.844330      406.322754  -30.424884   \n",
       "8     824.919983  995.919983       387.425537      438.412506   20.729283   \n",
       "27     95.510002  128.699997       402.167572      436.325684   34.750282   \n",
       "51    235.556000  201.326340       391.775543      424.329590  -14.531432   \n",
       "52      7.400000    0.780000       391.775543      501.200012  -89.459460   \n",
       "56      5.970000    0.800000       388.830292      501.200012  -86.599664   \n",
       "66    124.930000  329.339996       392.307465      501.200012  163.619623   \n",
       "127   246.990005  193.570007       430.484650      501.200012  -21.628405   \n",
       "\n",
       "       spy_pnl  duration  annualized_pnl  annualized_spy_pnl  stock_growth  \\\n",
       "4   -10.761629       181      -61.354048          -21.701627    -30.424884   \n",
       "8    13.160456       364       20.786232           13.196612     20.729283   \n",
       "27    8.493502       181       70.076535           17.127781     34.750282   \n",
       "51    8.309362       212      -25.018739           14.306212    -14.531432   \n",
       "52   27.930398       347      -94.100008           29.379237    -89.459460   \n",
       "56   28.899425       345      -91.619935           30.574754    -86.599664   \n",
       "66   27.756940       339      176.168621           29.885791    163.619623   \n",
       "127  16.426918       137      -57.623122           43.765147    -21.628405   \n",
       "\n",
       "     spy_growth  outperformed  annualized_pnl_difference  \n",
       "4     10.761629         False                 -39.652422  \n",
       "8     13.160456          True                   7.589620  \n",
       "27     8.493502          True                  52.948754  \n",
       "51     8.309362         False                 -39.324952  \n",
       "52    27.930398         False                -123.479246  \n",
       "56    28.899425         False                -122.194689  \n",
       "66    27.756940          True                 146.282830  \n",
       "127   16.426918         False                -101.388270  "
      ]
     },
     "execution_count": 56,
     "metadata": {},
     "output_type": "execute_result"
    }
   ],
   "source": [
    "# nyse_dates = list(nyse_dates.valid_days(start_date='2022-01-01', end_date='2030-02-12'))\n",
    "\n",
    "# df['annualized_pnl_difference'] = df['annualized_pnl'] - df['annualized_spy_pnl']\n",
    "# print(df['annualized_pnl_difference'].mean())\n",
    "df[df['Negative Alumni Response (No response/not negative = 0, Negative = 1)'] == 1]"
   ]
  },
  {
   "cell_type": "code",
   "execution_count": 50,
   "metadata": {},
   "outputs": [
    {
     "data": {
      "text/plain": [
       "0.0015538052596300212"
      ]
     },
     "execution_count": 50,
     "metadata": {},
     "output_type": "execute_result"
    }
   ],
   "source": [
    "df['annualized_pnl_difference'].mean()/100"
   ]
  },
  {
   "cell_type": "code",
   "execution_count": null,
   "metadata": {},
   "outputs": [],
   "source": []
  }
 ],
 "metadata": {
  "kernelspec": {
   "display_name": "Python 3",
   "language": "python",
   "name": "python3"
  },
  "language_info": {
   "codemirror_mode": {
    "name": "ipython",
    "version": 3
   },
   "file_extension": ".py",
   "mimetype": "text/x-python",
   "name": "python",
   "nbconvert_exporter": "python",
   "pygments_lexer": "ipython3",
   "version": "3.11.0"
  }
 },
 "nbformat": 4,
 "nbformat_minor": 2
}
